{
 "cells": [
  {
   "cell_type": "markdown",
   "metadata": {
    "id": "_Yx1Mi7abuht"
   },
   "source": [
    "# План домашних заданий"
   ]
  },
  {
   "cell_type": "markdown",
   "source": [
    "\n",
    "- Описание задачи и знакомство с данными\n",
    "- Домашнее задание 1. Генерация и фильтрация признаков\n",
    "- Домашнее задание 2. Прогноз времени и вида поломки машин, настройка ML-модели\n",
    "- Дополнительное задание. Визуализация прогнозов, ошибок модели и важности признаков\n",
    "- Домашнее задание 3. Оптимизация. Тюнинг гиперпараметров с помощью `Optuna`\n",
    "- Домашнее задание 4. Блендинг\n",
    "- Домашнее задание 5. Парсинг внешних данных и оптимизация памяти\n",
    "- Отправка финального решения на лидерборд на Kaggle"
   ],
   "metadata": {
    "id": "_HK3X8tveQhH"
   }
  },
  {
   "cell_type": "code",
   "execution_count": 1,
   "metadata": {
    "tags": [],
    "id": "cfomgq3Sbuht",
    "ExecuteTime": {
     "end_time": "2024-03-31T21:18:09.959778Z",
     "start_time": "2024-03-31T21:18:09.930690800Z"
    }
   },
   "outputs": [],
   "source": [
    "import pandas as pd\n",
    "import numpy as np\n",
    "import matplotlib.pyplot as plt\n",
    "import seaborn as sns"
   ]
  },
  {
   "cell_type": "markdown",
   "metadata": {
    "id": "fkeIBE5Kbuht"
   },
   "source": [
    "# <center id=\"part0\"> Описание задачи"
   ]
  },
  {
   "cell_type": "markdown",
   "metadata": {
    "id": "MKmknPZbbuht"
   },
   "source": [
    "**Предыстория:**  мы работаем с каршеринговой компанией, которая управляет крупным автопарком машин. Наша цель — предотвратить длительные периоды простоя машин из-за поломок через своевременное обслуживание и ремонт.\n",
    "\n",
    "\n",
    "**Идея для решения проблемы:** создать приоритизированный список обхода машин. Этот список поможет технической бригаде сосредоточиться на автомобилях, которые наиболее вероятно выйдут из строя в ближайшее время.\n",
    "\n",
    "\n",
    "**Как компания решает задачу:**\n",
    "\n",
    "* Собирает данные о поездках и состоянии машин до поломок.\n",
    "\n",
    "* Нанимает Data Scientist, чтобы он смог использовать эти данные для анализа и прогнозирования характера поломок.\n",
    "\n",
    "**Важный момент**: задачи этого специалиста (Data Scientist) предстоит выполнять вам."
   ]
  },
  {
   "cell_type": "markdown",
   "metadata": {
    "id": "-VMB1MVpbuhu"
   },
   "source": [
    "## <center> Знакомство с данными"
   ]
  },
  {
   "cell_type": "markdown",
   "metadata": {
    "id": "TtZE_Frrbuhu"
   },
   "source": [
    "### Информация про машины с таргетом (основной датасет)"
   ]
  },
  {
   "cell_type": "code",
   "execution_count": 2,
   "metadata": {
    "tags": [],
    "id": "DhA6zYqebuhu",
    "outputId": "6d64cd41-646a-4d14-b9cb-63330516265c",
    "ExecuteTime": {
     "end_time": "2024-03-31T21:18:10.773285400Z",
     "start_time": "2024-03-31T21:18:09.962329800Z"
    }
   },
   "outputs": [
    {
     "data": {
      "text/plain": "          car_id           model car_type fuel_type  car_rating  \\\n1629  z-4653924H         Kia Rio  economy    petrol        4.10   \n2115  m16516804p  Kia Rio X-line  economy    petrol        4.98   \n973   v88691914J         VW Polo  economy    petrol        4.14   \n1649  c13849387F     Skoda Rapid  economy    petrol        3.90   \n309   e47878499e      VW Polo VI  economy    petrol        4.30   \n\n      year_to_start  riders  year_to_work  target_reg     target_class  \n1629           2012   23425          2020       96.33      another_bug  \n2115           2014   59833          2014       44.54      engine_fuel  \n973            2014   66664          2018       32.91      engine_fuel  \n1649           2016   94475          2019       38.00  engine_overheat  \n309            2013   36546          2018       53.29     engine_check  ",
      "text/html": "<div>\n<style scoped>\n    .dataframe tbody tr th:only-of-type {\n        vertical-align: middle;\n    }\n\n    .dataframe tbody tr th {\n        vertical-align: top;\n    }\n\n    .dataframe thead th {\n        text-align: right;\n    }\n</style>\n<table border=\"1\" class=\"dataframe\">\n  <thead>\n    <tr style=\"text-align: right;\">\n      <th></th>\n      <th>car_id</th>\n      <th>model</th>\n      <th>car_type</th>\n      <th>fuel_type</th>\n      <th>car_rating</th>\n      <th>year_to_start</th>\n      <th>riders</th>\n      <th>year_to_work</th>\n      <th>target_reg</th>\n      <th>target_class</th>\n    </tr>\n  </thead>\n  <tbody>\n    <tr>\n      <th>1629</th>\n      <td>z-4653924H</td>\n      <td>Kia Rio</td>\n      <td>economy</td>\n      <td>petrol</td>\n      <td>4.10</td>\n      <td>2012</td>\n      <td>23425</td>\n      <td>2020</td>\n      <td>96.33</td>\n      <td>another_bug</td>\n    </tr>\n    <tr>\n      <th>2115</th>\n      <td>m16516804p</td>\n      <td>Kia Rio X-line</td>\n      <td>economy</td>\n      <td>petrol</td>\n      <td>4.98</td>\n      <td>2014</td>\n      <td>59833</td>\n      <td>2014</td>\n      <td>44.54</td>\n      <td>engine_fuel</td>\n    </tr>\n    <tr>\n      <th>973</th>\n      <td>v88691914J</td>\n      <td>VW Polo</td>\n      <td>economy</td>\n      <td>petrol</td>\n      <td>4.14</td>\n      <td>2014</td>\n      <td>66664</td>\n      <td>2018</td>\n      <td>32.91</td>\n      <td>engine_fuel</td>\n    </tr>\n    <tr>\n      <th>1649</th>\n      <td>c13849387F</td>\n      <td>Skoda Rapid</td>\n      <td>economy</td>\n      <td>petrol</td>\n      <td>3.90</td>\n      <td>2016</td>\n      <td>94475</td>\n      <td>2019</td>\n      <td>38.00</td>\n      <td>engine_overheat</td>\n    </tr>\n    <tr>\n      <th>309</th>\n      <td>e47878499e</td>\n      <td>VW Polo VI</td>\n      <td>economy</td>\n      <td>petrol</td>\n      <td>4.30</td>\n      <td>2013</td>\n      <td>36546</td>\n      <td>2018</td>\n      <td>53.29</td>\n      <td>engine_check</td>\n    </tr>\n  </tbody>\n</table>\n</div>"
     },
     "execution_count": 2,
     "metadata": {},
     "output_type": "execute_result"
    }
   ],
   "source": [
    "car_train = pd.read_csv('https://raw.githubusercontent.com/a-milenkin/Competitive_Data_Science/main/data/car_train.csv')\n",
    "car_train.sample(5)"
   ]
  },
  {
   "cell_type": "markdown",
   "metadata": {
    "id": "AWvQSnafbuhu"
   },
   "source": [
    "- `car_id` — идентификатор машины\n",
    "- `model` / `car_type` / `fuel_type` — марка, класс и тип топлива машины\n",
    "- `car_rating` / `riders` — общий рейтинг и общее число поездок к концу 2021 года\n",
    "- `year_to_start` / `year_to_work` — год выпуска машины и год начала работы в автопарке\n",
    "- `target_reg` — количество дней до поломки\n",
    "- `target_class` — класс поломки (всего 9 видов)"
   ]
  },
  {
   "cell_type": "markdown",
   "metadata": {
    "id": "6KWf2LgObuhu"
   },
   "source": [
    "### Информация про поездки"
   ]
  },
  {
   "cell_type": "code",
   "execution_count": 3,
   "metadata": {
    "tags": [],
    "id": "pDc5gXzbbuhu",
    "outputId": "53849f03-cf5e-4773-e68e-7d4ba6ed5e37",
    "ExecuteTime": {
     "end_time": "2024-03-31T21:18:32.152337400Z",
     "start_time": "2024-03-31T21:18:10.730742400Z"
    }
   },
   "outputs": [
    {
     "data": {
      "text/plain": "           user_id      car_id ride_id   ride_date  rating  ride_duration  \\\n242501  S19467745y  Q75686415a     b1c  2020-03-04    4.45          35574   \n718274  Q11878237R  y13744087j     D1j  2020-01-02    7.17             45   \n407455  X14831806H  d-1063018h     X1z  2020-03-05    5.47           3122   \n170369  J21788043E  M-2130010I     a1W  2020-01-13    5.43            324   \n167585  q16181094s  M-1335244r     b1l  2020-01-13    4.24             28   \n\n        ride_cost  speed_avg   speed_max  stop_times      distance  refueling  \\\n242501     462457         43  106.000000          12  1.485974e+06          0   \n718274        444         54   82.000000           0  9.523155e+02          0   \n407455      31215         58   82.103219           0  1.796729e+05          0   \n170369       4530         41   59.000000           2  1.500822e+03          0   \n167585        330         59   79.000000           0  1.389924e+03          0   \n\n        user_ride_quality  deviation_normal  \n242501           4.174251             0.001  \n718274           0.876440            -0.000  \n407455           2.171588            43.918  \n170369          -3.759454            -0.001  \n167585           1.712184             0.001  ",
      "text/html": "<div>\n<style scoped>\n    .dataframe tbody tr th:only-of-type {\n        vertical-align: middle;\n    }\n\n    .dataframe tbody tr th {\n        vertical-align: top;\n    }\n\n    .dataframe thead th {\n        text-align: right;\n    }\n</style>\n<table border=\"1\" class=\"dataframe\">\n  <thead>\n    <tr style=\"text-align: right;\">\n      <th></th>\n      <th>user_id</th>\n      <th>car_id</th>\n      <th>ride_id</th>\n      <th>ride_date</th>\n      <th>rating</th>\n      <th>ride_duration</th>\n      <th>ride_cost</th>\n      <th>speed_avg</th>\n      <th>speed_max</th>\n      <th>stop_times</th>\n      <th>distance</th>\n      <th>refueling</th>\n      <th>user_ride_quality</th>\n      <th>deviation_normal</th>\n    </tr>\n  </thead>\n  <tbody>\n    <tr>\n      <th>242501</th>\n      <td>S19467745y</td>\n      <td>Q75686415a</td>\n      <td>b1c</td>\n      <td>2020-03-04</td>\n      <td>4.45</td>\n      <td>35574</td>\n      <td>462457</td>\n      <td>43</td>\n      <td>106.000000</td>\n      <td>12</td>\n      <td>1.485974e+06</td>\n      <td>0</td>\n      <td>4.174251</td>\n      <td>0.001</td>\n    </tr>\n    <tr>\n      <th>718274</th>\n      <td>Q11878237R</td>\n      <td>y13744087j</td>\n      <td>D1j</td>\n      <td>2020-01-02</td>\n      <td>7.17</td>\n      <td>45</td>\n      <td>444</td>\n      <td>54</td>\n      <td>82.000000</td>\n      <td>0</td>\n      <td>9.523155e+02</td>\n      <td>0</td>\n      <td>0.876440</td>\n      <td>-0.000</td>\n    </tr>\n    <tr>\n      <th>407455</th>\n      <td>X14831806H</td>\n      <td>d-1063018h</td>\n      <td>X1z</td>\n      <td>2020-03-05</td>\n      <td>5.47</td>\n      <td>3122</td>\n      <td>31215</td>\n      <td>58</td>\n      <td>82.103219</td>\n      <td>0</td>\n      <td>1.796729e+05</td>\n      <td>0</td>\n      <td>2.171588</td>\n      <td>43.918</td>\n    </tr>\n    <tr>\n      <th>170369</th>\n      <td>J21788043E</td>\n      <td>M-2130010I</td>\n      <td>a1W</td>\n      <td>2020-01-13</td>\n      <td>5.43</td>\n      <td>324</td>\n      <td>4530</td>\n      <td>41</td>\n      <td>59.000000</td>\n      <td>2</td>\n      <td>1.500822e+03</td>\n      <td>0</td>\n      <td>-3.759454</td>\n      <td>-0.001</td>\n    </tr>\n    <tr>\n      <th>167585</th>\n      <td>q16181094s</td>\n      <td>M-1335244r</td>\n      <td>b1l</td>\n      <td>2020-01-13</td>\n      <td>4.24</td>\n      <td>28</td>\n      <td>330</td>\n      <td>59</td>\n      <td>79.000000</td>\n      <td>0</td>\n      <td>1.389924e+03</td>\n      <td>0</td>\n      <td>1.712184</td>\n      <td>0.001</td>\n    </tr>\n  </tbody>\n</table>\n</div>"
     },
     "execution_count": 3,
     "metadata": {},
     "output_type": "execute_result"
    }
   ],
   "source": [
    "rides_info = pd.read_csv('https://raw.githubusercontent.com/a-milenkin/Competitive_Data_Science/main/data/rides_info.csv')\n",
    "rides_info.sample(5)"
   ]
  },
  {
   "cell_type": "markdown",
   "metadata": {
    "id": "ZAn8S24sbuhv"
   },
   "source": [
    "- `user_id` / `car_id` / `ride_id` — идентификаторы водителя, машины, поездки соответственно\n",
    "- `ride_date` / `rating` — дата поездки и рейтинг, поставленный водителем\n",
    "- `ride_duration` / `distance` / `ride_cost` —  длительность (время),  пройденное расстояние, стоимость поездки\n",
    "- `speed_avg` / `speed_max` — средняя и максимальная скорости поездки соответственно\n",
    "- `stop_times` / `refueling` — количество остановок (паузы) и флаг: была ли дозаправка\n",
    "- `user_ride_quality` — оценка манеры вождения водителя машины, определенная скоринговой ML-системой сервиса\n",
    "- `deviation_normal` — общий показатель датчиков о состоянии машины, относительно эталонных показателей (нормы)"
   ]
  },
  {
   "cell_type": "markdown",
   "metadata": {
    "id": "O0Onuz4ybuhv"
   },
   "source": [
    "### Информация про водителей"
   ]
  },
  {
   "cell_type": "code",
   "execution_count": 4,
   "metadata": {
    "tags": [],
    "id": "WBEvQXhxbuhv",
    "outputId": "80c61226-f3e4-445c-e122-d019200a5fbb",
    "ExecuteTime": {
     "end_time": "2024-03-31T21:18:32.897199500Z",
     "start_time": "2024-03-31T21:18:32.129534200Z"
    }
   },
   "outputs": [
    {
     "data": {
      "text/plain": "       age  user_rating  user_rides  user_time_accident     user_id  sex  \\\n390     19          7.9        1514                 9.0  O14051668g    1   \n9415    19          9.3        1950                19.0  a16016039l    1   \n13226   20          7.9        1019                 6.0  E11579651J    1   \n2268    30          9.0          79                23.0  u82703466g    1   \n3410    30          7.9         583                 5.0  N80729617z    1   \n\n      first_ride_date  \n390         2018-7-15  \n9415       2017-12-24  \n13226      2018-11-23  \n2268         2020-3-4  \n3410        2020-7-14  ",
      "text/html": "<div>\n<style scoped>\n    .dataframe tbody tr th:only-of-type {\n        vertical-align: middle;\n    }\n\n    .dataframe tbody tr th {\n        vertical-align: top;\n    }\n\n    .dataframe thead th {\n        text-align: right;\n    }\n</style>\n<table border=\"1\" class=\"dataframe\">\n  <thead>\n    <tr style=\"text-align: right;\">\n      <th></th>\n      <th>age</th>\n      <th>user_rating</th>\n      <th>user_rides</th>\n      <th>user_time_accident</th>\n      <th>user_id</th>\n      <th>sex</th>\n      <th>first_ride_date</th>\n    </tr>\n  </thead>\n  <tbody>\n    <tr>\n      <th>390</th>\n      <td>19</td>\n      <td>7.9</td>\n      <td>1514</td>\n      <td>9.0</td>\n      <td>O14051668g</td>\n      <td>1</td>\n      <td>2018-7-15</td>\n    </tr>\n    <tr>\n      <th>9415</th>\n      <td>19</td>\n      <td>9.3</td>\n      <td>1950</td>\n      <td>19.0</td>\n      <td>a16016039l</td>\n      <td>1</td>\n      <td>2017-12-24</td>\n    </tr>\n    <tr>\n      <th>13226</th>\n      <td>20</td>\n      <td>7.9</td>\n      <td>1019</td>\n      <td>6.0</td>\n      <td>E11579651J</td>\n      <td>1</td>\n      <td>2018-11-23</td>\n    </tr>\n    <tr>\n      <th>2268</th>\n      <td>30</td>\n      <td>9.0</td>\n      <td>79</td>\n      <td>23.0</td>\n      <td>u82703466g</td>\n      <td>1</td>\n      <td>2020-3-4</td>\n    </tr>\n    <tr>\n      <th>3410</th>\n      <td>30</td>\n      <td>7.9</td>\n      <td>583</td>\n      <td>5.0</td>\n      <td>N80729617z</td>\n      <td>1</td>\n      <td>2020-7-14</td>\n    </tr>\n  </tbody>\n</table>\n</div>"
     },
     "execution_count": 4,
     "metadata": {},
     "output_type": "execute_result"
    }
   ],
   "source": [
    "driver_info = pd.read_csv('https://raw.githubusercontent.com/a-milenkin/Competitive_Data_Science/main/data/driver_info.csv')\n",
    "driver_info.sample(5)"
   ]
  },
  {
   "cell_type": "markdown",
   "metadata": {
    "id": "ubFE8w-Kbuhv"
   },
   "source": [
    "- `user_id` / `age` / `sex` — идентификатор, возраст и пол водителя, соответственно\n",
    "- `user_rating` — общий рейтинг пользователя за все поездки к концу 2021 года\n",
    "- `user_rides` — общее количество поездок к концу 2021 года\n",
    "- `user_time_accident` — число инцидентов (это могли быть аварии/штрафы/эвакуация машины)  \n",
    "- `first_ride_date` — дата первой поездки"
   ]
  },
  {
   "cell_type": "markdown",
   "metadata": {
    "id": "cXDdvlHYbuhv"
   },
   "source": [
    "### Информация про ремонт машин"
   ]
  },
  {
   "cell_type": "code",
   "execution_count": 5,
   "metadata": {
    "tags": [],
    "id": "eVTjvBspbuhv",
    "outputId": "6ac51c57-542d-45d3-9465-5e4da7a4e4ae",
    "ExecuteTime": {
     "end_time": "2024-03-31T21:18:35.298003600Z",
     "start_time": "2024-03-31T21:18:32.884963Z"
    }
   },
   "outputs": [
    {
     "data": {
      "text/plain": "            car_id worker_id         fix_date     work_type  destroy_degree  \\\n141387  L-2146603e        NB  2019-5-22 10:52        refuel             1.0   \n137577  B17440481q        GR   2020-11-5 0:37     reparking             1.0   \n49091   c-2121060b        RY   2021-8-14 14:4     reparking             1.0   \n6417    o-5518912i        RB  2019-12-5 14:35        repair             6.6   \n118227  l14731037p        EO  2019-1-20 10:18  refuel_check             1.0   \n\n        work_duration  \n141387             30  \n137577             21  \n49091              34  \n6417               25  \n118227             29  ",
      "text/html": "<div>\n<style scoped>\n    .dataframe tbody tr th:only-of-type {\n        vertical-align: middle;\n    }\n\n    .dataframe tbody tr th {\n        vertical-align: top;\n    }\n\n    .dataframe thead th {\n        text-align: right;\n    }\n</style>\n<table border=\"1\" class=\"dataframe\">\n  <thead>\n    <tr style=\"text-align: right;\">\n      <th></th>\n      <th>car_id</th>\n      <th>worker_id</th>\n      <th>fix_date</th>\n      <th>work_type</th>\n      <th>destroy_degree</th>\n      <th>work_duration</th>\n    </tr>\n  </thead>\n  <tbody>\n    <tr>\n      <th>141387</th>\n      <td>L-2146603e</td>\n      <td>NB</td>\n      <td>2019-5-22 10:52</td>\n      <td>refuel</td>\n      <td>1.0</td>\n      <td>30</td>\n    </tr>\n    <tr>\n      <th>137577</th>\n      <td>B17440481q</td>\n      <td>GR</td>\n      <td>2020-11-5 0:37</td>\n      <td>reparking</td>\n      <td>1.0</td>\n      <td>21</td>\n    </tr>\n    <tr>\n      <th>49091</th>\n      <td>c-2121060b</td>\n      <td>RY</td>\n      <td>2021-8-14 14:4</td>\n      <td>reparking</td>\n      <td>1.0</td>\n      <td>34</td>\n    </tr>\n    <tr>\n      <th>6417</th>\n      <td>o-5518912i</td>\n      <td>RB</td>\n      <td>2019-12-5 14:35</td>\n      <td>repair</td>\n      <td>6.6</td>\n      <td>25</td>\n    </tr>\n    <tr>\n      <th>118227</th>\n      <td>l14731037p</td>\n      <td>EO</td>\n      <td>2019-1-20 10:18</td>\n      <td>refuel_check</td>\n      <td>1.0</td>\n      <td>29</td>\n    </tr>\n  </tbody>\n</table>\n</div>"
     },
     "execution_count": 5,
     "metadata": {},
     "output_type": "execute_result"
    }
   ],
   "source": [
    "fix_info = pd.read_csv('https://raw.githubusercontent.com/a-milenkin/Competitive_Data_Science/main/data/fix_info.csv')\n",
    "fix_info.sample(5)"
   ]
  },
  {
   "cell_type": "markdown",
   "metadata": {
    "id": "H01U-FFAbuhv"
   },
   "source": [
    "- `worker_id` / `car_id` — идентификатор работника и машины\n",
    "- `work_type` / `work_duration` — тип и длительность (в часах) проводимой работы\n",
    "- `destroy_degree` — степень износа/поврежденности машины в случае поломки\n",
    "- `fix_date` — время начала ремонта (снятия машины с линии)"
   ]
  },
  {
   "cell_type": "markdown",
   "metadata": {
    "id": "qY-lAjlhbuhv"
   },
   "source": [
    "# Домашнее задание 1. Генерация и фильтрация признаков"
   ]
  },
  {
   "cell_type": "markdown",
   "metadata": {
    "id": "9E2N9m5Cbuhv"
   },
   "source": [
    "<center> <img src=\"https://ucarecdn.com/bf4c772d-b67a-42ae-a48b-cfd83910b0a2/\" width=700>"
   ]
  },
  {
   "cell_type": "markdown",
   "metadata": {
    "id": "HaroHWSBbuhw"
   },
   "source": [
    "<div class=\"alert alert-info\">\n",
    "\n",
    "**Цель блока** — сгенерировать признаки из дополнительных датасетов и добавить их к основному датасету, произвести фильтрацию признаков."
   ]
  },
  {
   "cell_type": "markdown",
   "metadata": {
    "id": "wev7E_qlbuhw"
   },
   "source": [
    "    \n",
    "## Задание 1. Генерация признаков из дополнительных датасетов (6 баллов)"
   ]
  },
  {
   "cell_type": "markdown",
   "metadata": {
    "id": "CSX4pA5Kbuhw"
   },
   "source": [
    "<div class=\"alert alert-info\">\n",
    "\n",
    "1. Возьмите датасет `rides_info` с информацией о поездках и проведите группировку по каждой машине отдельно.\n",
    "\n",
    "2. Для каждой машины (то есть для каждого `car_id`) подсчитайте несколько признаков:\n",
    "  - минимальный рейтинг за все поездки;\n",
    "  - средний рейтинг за все поездки;\n",
    "  - общее количество километров, которое машина проехала;\n",
    "  - максимальная скорость;\n",
    "  - общее количество поездок для каждой машины.\n",
    "\n",
    "3. Добавьте минимум 3 признака на свой выбор.\n",
    "\n",
    "4. Сделайте соединение таблиц — вспомните про методы соединения и выберите подходящий для этого случая.\n",
    "\n",
    "5. Подключите информацию про водителей (`driver_info`) и про ремонт машин (`fix_info`). Добавьте минимум 3 любых признака с каждого датасета.\n",
    "\n",
    "\n",
    "<h4> Критерии оценивания </h4>\n",
    "    \n",
    "- Добавлены 5 обязательных и минимум 3 любых признака из датасета `rides_info` — 2 балла.\n",
    "- Добавлены минимум 3 любых признака из датасета `driver_info` — 2 балла.\n",
    "- Добавлены минимум 3 любых признака из датасета `fix_info` — 2 балла.\n",
    "\n",
    "</div>"
   ]
  },
  {
   "cell_type": "markdown",
   "metadata": {
    "id": "kfAs9dZHbuhw"
   },
   "source": [
    "<div class=\"alert alert-success\">\n",
    "    \n",
    "<h4> Советы по Feature Engineering</h4>\n",
    "    \n",
    "- Начинайте с сырых данных.\n",
    "- Используйте все доступные данные. Покрывайте признаками всю имеющуюся информацию в данных.\n",
    "- Формулируйте предположения: от чего зависит таргет?\n",
    "- Смотрите визуально на классы/ошибки и делайте предположения. Какие полезны?\n",
    "- Помните, что слишком много признаков может быть вредно. Потом придется отфильтровывать.\n",
    "    \n",
    "<h4> Полезные источники </h4>\n",
    "    \n",
    "- Занятие про Feature Engineering.\n",
    "- Занятие про Feature Selection.\n",
    "- [Max Kuhn and Kjell Johnson. Feature Engineering and Selection: A Practical Approach for Predictive Models](http://www.feat.engineering/)."
   ]
  },
  {
   "cell_type": "markdown",
   "source": [
    "### Пример расчета признака"
   ],
   "metadata": {
    "id": "n5pkVaw0eszI"
   }
  },
  {
   "cell_type": "code",
   "execution_count": 6,
   "outputs": [
    {
     "data": {
      "text/plain": "            car_id worker_id         fix_date     work_type  destroy_degree  \\\n0       P17494612l        RJ   2020-6-20 2:14     reparking             8.0   \n1       N-1530212S        LM   2020-2-9 20:25        repair            10.0   \n2       B-1154399t        ND    2019-8-24 7:1     reparking             1.0   \n3       y13744087j        PG   2019-8-10 9:29     reparking             1.0   \n4       F12725233R        YC  2020-11-12 5:22  refuel_check             8.0   \n...            ...       ...              ...           ...             ...   \n145995  j92079780S        NG  2019-1-21 14:34     reparking             1.0   \n145996  N89944460U        WM  2019-4-30 11:33        repair             2.6   \n145997  f63189062N        NY   2019-3-7 20:49        repair             5.0   \n145998  j-1712772o        IP  2018-2-18 19:10        repair             5.0   \n145999  c19881313A        SF  2020-3-11 23:45        repair            10.0   \n\n        work_duration  \n0                  49  \n1                  48  \n2                  27  \n3                  28  \n4                  47  \n...               ...  \n145995             36  \n145996             13  \n145997             14  \n145998             13  \n145999             66  \n\n[146000 rows x 6 columns]",
      "text/html": "<div>\n<style scoped>\n    .dataframe tbody tr th:only-of-type {\n        vertical-align: middle;\n    }\n\n    .dataframe tbody tr th {\n        vertical-align: top;\n    }\n\n    .dataframe thead th {\n        text-align: right;\n    }\n</style>\n<table border=\"1\" class=\"dataframe\">\n  <thead>\n    <tr style=\"text-align: right;\">\n      <th></th>\n      <th>car_id</th>\n      <th>worker_id</th>\n      <th>fix_date</th>\n      <th>work_type</th>\n      <th>destroy_degree</th>\n      <th>work_duration</th>\n    </tr>\n  </thead>\n  <tbody>\n    <tr>\n      <th>0</th>\n      <td>P17494612l</td>\n      <td>RJ</td>\n      <td>2020-6-20 2:14</td>\n      <td>reparking</td>\n      <td>8.0</td>\n      <td>49</td>\n    </tr>\n    <tr>\n      <th>1</th>\n      <td>N-1530212S</td>\n      <td>LM</td>\n      <td>2020-2-9 20:25</td>\n      <td>repair</td>\n      <td>10.0</td>\n      <td>48</td>\n    </tr>\n    <tr>\n      <th>2</th>\n      <td>B-1154399t</td>\n      <td>ND</td>\n      <td>2019-8-24 7:1</td>\n      <td>reparking</td>\n      <td>1.0</td>\n      <td>27</td>\n    </tr>\n    <tr>\n      <th>3</th>\n      <td>y13744087j</td>\n      <td>PG</td>\n      <td>2019-8-10 9:29</td>\n      <td>reparking</td>\n      <td>1.0</td>\n      <td>28</td>\n    </tr>\n    <tr>\n      <th>4</th>\n      <td>F12725233R</td>\n      <td>YC</td>\n      <td>2020-11-12 5:22</td>\n      <td>refuel_check</td>\n      <td>8.0</td>\n      <td>47</td>\n    </tr>\n    <tr>\n      <th>...</th>\n      <td>...</td>\n      <td>...</td>\n      <td>...</td>\n      <td>...</td>\n      <td>...</td>\n      <td>...</td>\n    </tr>\n    <tr>\n      <th>145995</th>\n      <td>j92079780S</td>\n      <td>NG</td>\n      <td>2019-1-21 14:34</td>\n      <td>reparking</td>\n      <td>1.0</td>\n      <td>36</td>\n    </tr>\n    <tr>\n      <th>145996</th>\n      <td>N89944460U</td>\n      <td>WM</td>\n      <td>2019-4-30 11:33</td>\n      <td>repair</td>\n      <td>2.6</td>\n      <td>13</td>\n    </tr>\n    <tr>\n      <th>145997</th>\n      <td>f63189062N</td>\n      <td>NY</td>\n      <td>2019-3-7 20:49</td>\n      <td>repair</td>\n      <td>5.0</td>\n      <td>14</td>\n    </tr>\n    <tr>\n      <th>145998</th>\n      <td>j-1712772o</td>\n      <td>IP</td>\n      <td>2018-2-18 19:10</td>\n      <td>repair</td>\n      <td>5.0</td>\n      <td>13</td>\n    </tr>\n    <tr>\n      <th>145999</th>\n      <td>c19881313A</td>\n      <td>SF</td>\n      <td>2020-3-11 23:45</td>\n      <td>repair</td>\n      <td>10.0</td>\n      <td>66</td>\n    </tr>\n  </tbody>\n</table>\n<p>146000 rows × 6 columns</p>\n</div>"
     },
     "execution_count": 6,
     "metadata": {},
     "output_type": "execute_result"
    }
   ],
   "source": [
    "fix_info"
   ],
   "metadata": {
    "collapsed": false,
    "ExecuteTime": {
     "end_time": "2024-03-31T21:18:35.431875200Z",
     "start_time": "2024-03-31T21:18:35.271698400Z"
    }
   }
  },
  {
   "cell_type": "code",
   "execution_count": 7,
   "outputs": [],
   "source": [
    "rides_users = rides_info.merge(driver_info, on='user_id')"
   ],
   "metadata": {
    "collapsed": false,
    "ExecuteTime": {
     "end_time": "2024-03-31T21:18:36.300262700Z",
     "start_time": "2024-03-31T21:18:35.312156100Z"
    }
   }
  },
  {
   "cell_type": "code",
   "execution_count": 7,
   "outputs": [],
   "source": [],
   "metadata": {
    "collapsed": false,
    "ExecuteTime": {
     "end_time": "2024-03-31T21:18:36.304858600Z",
     "start_time": "2024-03-31T21:18:36.098198800Z"
    }
   }
  },
  {
   "cell_type": "code",
   "execution_count": 8,
   "metadata": {
    "id": "CYaNVDLTbuhw",
    "outputId": "74b790bd-f24f-4b3c-a867-d4a19ba4aefa",
    "ExecuteTime": {
     "end_time": "2024-03-31T21:18:37.630637700Z",
     "start_time": "2024-03-31T21:18:36.117754800Z"
    }
   },
   "outputs": [
    {
     "data": {
      "text/plain": "       car_id              model  car_type fuel_type  car_rating  \\\n0  y13744087j     Kia Rio X-line   economy    petrol        3.78   \n1  O41613818T         VW Polo VI   economy    petrol        3.90   \n2  d-2109686j    Renault Sandero  standart    petrol        6.30   \n3  u29695600e  Mercedes-Benz GLC  business    petrol        4.04   \n4  N-8915870N    Renault Sandero  standart    petrol        4.70   \n\n   year_to_start  riders  year_to_work  target_reg target_class  ...  revenue  \\\n0           2015   76163          2021      108.53  another_bug  ...  3498596   \n1           2015   78218          2021       35.20  electro_bug  ...  4665569   \n2           2012   23340          2017       38.62   gear_stick  ...  4173876   \n3           2011    1263          2020       30.34  engine_fuel  ...  6584001   \n4           2012   26428          2017       30.45  engine_fuel  ...  3460587   \n\n      avg_check  avg_speed  max_speed  mean_user_rating   avg_sex  \\\n0  20106.873563  44.660920  87.183965          8.229885  0.505747   \n1  26813.614943  49.862069  89.474427          7.988506  0.419540   \n2  23987.793103  44.005747  67.473599          7.843103  0.551724   \n3  37839.086207  49.344828  86.661339          8.524138  0.442529   \n4  19888.431034  50.603448  86.263698          8.112069  0.465517   \n\n   avg_user_age  total_fixes  total_fix_duration    last_fix_date  \n0     33.511494           35                 933  2021-12-1 11:33  \n1     34.988506           35                 873    2021-6-1 13:9  \n2     32.839080           35                 915   2021-9-13 7:30  \n3     34.977011           35                1007  2021-9-20 15:46  \n4     34.298851           35                 981   2021-3-26 8:50  \n\n[5 rows x 27 columns]",
      "text/html": "<div>\n<style scoped>\n    .dataframe tbody tr th:only-of-type {\n        vertical-align: middle;\n    }\n\n    .dataframe tbody tr th {\n        vertical-align: top;\n    }\n\n    .dataframe thead th {\n        text-align: right;\n    }\n</style>\n<table border=\"1\" class=\"dataframe\">\n  <thead>\n    <tr style=\"text-align: right;\">\n      <th></th>\n      <th>car_id</th>\n      <th>model</th>\n      <th>car_type</th>\n      <th>fuel_type</th>\n      <th>car_rating</th>\n      <th>year_to_start</th>\n      <th>riders</th>\n      <th>year_to_work</th>\n      <th>target_reg</th>\n      <th>target_class</th>\n      <th>...</th>\n      <th>revenue</th>\n      <th>avg_check</th>\n      <th>avg_speed</th>\n      <th>max_speed</th>\n      <th>mean_user_rating</th>\n      <th>avg_sex</th>\n      <th>avg_user_age</th>\n      <th>total_fixes</th>\n      <th>total_fix_duration</th>\n      <th>last_fix_date</th>\n    </tr>\n  </thead>\n  <tbody>\n    <tr>\n      <th>0</th>\n      <td>y13744087j</td>\n      <td>Kia Rio X-line</td>\n      <td>economy</td>\n      <td>petrol</td>\n      <td>3.78</td>\n      <td>2015</td>\n      <td>76163</td>\n      <td>2021</td>\n      <td>108.53</td>\n      <td>another_bug</td>\n      <td>...</td>\n      <td>3498596</td>\n      <td>20106.873563</td>\n      <td>44.660920</td>\n      <td>87.183965</td>\n      <td>8.229885</td>\n      <td>0.505747</td>\n      <td>33.511494</td>\n      <td>35</td>\n      <td>933</td>\n      <td>2021-12-1 11:33</td>\n    </tr>\n    <tr>\n      <th>1</th>\n      <td>O41613818T</td>\n      <td>VW Polo VI</td>\n      <td>economy</td>\n      <td>petrol</td>\n      <td>3.90</td>\n      <td>2015</td>\n      <td>78218</td>\n      <td>2021</td>\n      <td>35.20</td>\n      <td>electro_bug</td>\n      <td>...</td>\n      <td>4665569</td>\n      <td>26813.614943</td>\n      <td>49.862069</td>\n      <td>89.474427</td>\n      <td>7.988506</td>\n      <td>0.419540</td>\n      <td>34.988506</td>\n      <td>35</td>\n      <td>873</td>\n      <td>2021-6-1 13:9</td>\n    </tr>\n    <tr>\n      <th>2</th>\n      <td>d-2109686j</td>\n      <td>Renault Sandero</td>\n      <td>standart</td>\n      <td>petrol</td>\n      <td>6.30</td>\n      <td>2012</td>\n      <td>23340</td>\n      <td>2017</td>\n      <td>38.62</td>\n      <td>gear_stick</td>\n      <td>...</td>\n      <td>4173876</td>\n      <td>23987.793103</td>\n      <td>44.005747</td>\n      <td>67.473599</td>\n      <td>7.843103</td>\n      <td>0.551724</td>\n      <td>32.839080</td>\n      <td>35</td>\n      <td>915</td>\n      <td>2021-9-13 7:30</td>\n    </tr>\n    <tr>\n      <th>3</th>\n      <td>u29695600e</td>\n      <td>Mercedes-Benz GLC</td>\n      <td>business</td>\n      <td>petrol</td>\n      <td>4.04</td>\n      <td>2011</td>\n      <td>1263</td>\n      <td>2020</td>\n      <td>30.34</td>\n      <td>engine_fuel</td>\n      <td>...</td>\n      <td>6584001</td>\n      <td>37839.086207</td>\n      <td>49.344828</td>\n      <td>86.661339</td>\n      <td>8.524138</td>\n      <td>0.442529</td>\n      <td>34.977011</td>\n      <td>35</td>\n      <td>1007</td>\n      <td>2021-9-20 15:46</td>\n    </tr>\n    <tr>\n      <th>4</th>\n      <td>N-8915870N</td>\n      <td>Renault Sandero</td>\n      <td>standart</td>\n      <td>petrol</td>\n      <td>4.70</td>\n      <td>2012</td>\n      <td>26428</td>\n      <td>2017</td>\n      <td>30.45</td>\n      <td>engine_fuel</td>\n      <td>...</td>\n      <td>3460587</td>\n      <td>19888.431034</td>\n      <td>50.603448</td>\n      <td>86.263698</td>\n      <td>8.112069</td>\n      <td>0.465517</td>\n      <td>34.298851</td>\n      <td>35</td>\n      <td>981</td>\n      <td>2021-3-26 8:50</td>\n    </tr>\n  </tbody>\n</table>\n<p>5 rows × 27 columns</p>\n</div>"
     },
     "execution_count": 8,
     "metadata": {},
     "output_type": "execute_result"
    }
   ],
   "source": [
    "# Пример расчета одного признака\n",
    "rides_grouped = rides_users.groupby('car_id', as_index=False).agg(\n",
    "    mean_rating = ('rating', 'mean'),\n",
    "    min_rating = ('rating', 'min'),\n",
    "    mean_ride_duration = ('ride_duration', 'mean'),\n",
    "    ride_qty = ('ride_id', 'count'),\n",
    "    mean_user_ride_quality = ('user_ride_quality', 'mean'),\n",
    "    total_distance = ('distance', 'sum'),\n",
    "    mean_deviation = ('deviation_normal', 'mean'),\n",
    "    revenue = ('ride_cost', 'sum'),\n",
    "    avg_check = ('ride_cost', 'mean'),\n",
    "    avg_speed = ('speed_avg', 'mean'),\n",
    "    max_speed = ('speed_max', 'mean'),\n",
    "    mean_user_rating = ('user_rating', 'mean'),\n",
    "    avg_sex = ('sex', 'mean'),\n",
    "    avg_user_age = ('age', 'mean'),\n",
    ")\n",
    "\n",
    "fixes = fix_info.groupby('car_id', as_index=False).agg(\n",
    "    total_fixes = ('car_id', 'count'),\n",
    "    total_fix_duration = ('work_duration', 'sum'),\n",
    "    last_fix_date = ('fix_date', 'max'),\n",
    ")\n",
    "add_features = rides_grouped.merge(fixes, on='car_id')\n",
    "\n",
    "\n",
    "df = pd.merge(car_train, add_features, on='car_id') \n",
    "\n",
    "df.head()\n"
   ]
  },
  {
   "cell_type": "markdown",
   "metadata": {
    "tags": [],
    "id": "7_jt9yAabuhw"
   },
   "source": [
    "### Идеи для новых признаков\n",
    "\n",
    "1.   Новый пункт\n",
    "2.   Новый пункт\n",
    "\n"
   ]
  },
  {
   "cell_type": "markdown",
   "source": [
    "* `feature_min_max_diff` — разница между максимальным и минимальным значениями `deviation_normal` для каждой машины\n",
    "* `feature_corner` — угол наклона по признаку `user_ride_quality` для каждой машины\n",
    "* `feature_mean` — среднее значение `deviation_normal` для каждой машины\n",
    "* `feature_shift` — точка перегиба/сдвига для `deviation_normal`\n",
    "* `feature_start` — значение точки старта для `deviation_normal`\n",
    "* `feature_nans` — сумма пропусков для столбца `...` для каждой машины\n",
    "* `feature_quant` — `X %` квантиль для столбца `...` для каждой машины\n",
    "\n",
    "Подумайте, какие из признаков могут оказаться самыми полезными?"
   ],
   "metadata": {
    "id": "kLgu7UaofIyr"
   }
  },
  {
   "cell_type": "code",
   "execution_count": 9,
   "metadata": {
    "id": "iB9QODvfbuhw",
    "ExecuteTime": {
     "end_time": "2024-03-31T21:18:37.775526100Z",
     "start_time": "2024-03-31T21:18:37.594819600Z"
    }
   },
   "outputs": [],
   "source": [
    "# YOUR CODE HERE"
   ]
  },
  {
   "cell_type": "markdown",
   "metadata": {
    "id": "Q6Fa0zupbuhw"
   },
   "source": [
    "## Задание 2. Применение методов фильтрации признаков (4 балла)\n",
    "\n",
    "<center> <img src=\"https://ucarecdn.com/d1b4bc78-fd04-44fb-bdbf-0a63355b7384/\" width=700>"
   ]
  },
  {
   "cell_type": "markdown",
   "metadata": {
    "id": "c910L9jubuhx"
   },
   "source": [
    "1. Выберите и примените любые 3 (можно и больше) метода фильтрации, которые указаны выше или в ноутбуке по фильтрации из полезных ссылок.\n",
    "2. Проинтерпретируйте результаты и сделайте выводы.\n",
    "\n",
    "\n",
    "<h4> Критерии оценивания </h4>\n",
    "    \n",
    "- Применены методы фильтрации — 1 балл за каждый метод, максимум 3 балла.\n",
    "- Сделаны выводы на основе примененных методов —1 балл.\n",
    "</div>"
   ]
  },
  {
   "cell_type": "markdown",
   "source": [
    "### Советы по Feature Selection"
   ],
   "metadata": {
    "id": "9flWgKVxf9Q1"
   }
  },
  {
   "cell_type": "markdown",
   "metadata": {
    "id": "vYr9VNS5buhw"
   },
   "source": [
    "<div class=\"alert alert-info\">\n",
    "\n",
    "<h3><center>Зачем отбирать признаки</center></h3>\n",
    "    \n",
    "**Основные причины**:\n",
    "    \n",
    "- Главная причина: с увеличением количества признаков часто падает точность предсказания модели, а некоторые модели и вовсе перестают адекватно работать. Так происходит, если в данных большое количество мусорных фичей (почти не коррелирующих с таргетом).\n",
    "\n",
    "- Если фичей очень много, то данные перестают помещаться в память и существенно увеличивают время обучения модели, особенно если мы тестируем несколько алгоритмов или ансамбль. Также важно учитывать, что платформы имеют ограничения на длительность одной сессии (в Kaggle — 12 часов) и лимиты по потребляемой памяти.\n",
    "\n",
    "- Даже если точность не снижается, есть риск, что модель опирается на шумные фичи, что снизит стабильность прогноза на приватной выборке.\n"
   ]
  },
  {
   "cell_type": "markdown",
   "metadata": {
    "id": "P4JQwUS3buhw"
   },
   "source": [
    "<b>Что удалить сразу:</b>\n",
    "    \n",
    "- константы;\n",
    "- уникальные значения (в том числе в тесте; как правило, это ID-шники по типу `car_id`).\n",
    "    \n",
    "<b>Какие методы использовать:</b>\n",
    "    \n",
    "- `Линейная корреляция`.\n",
    "- `Phik` — тоже корреляция, но на стероидах ([туториал на Medium](https://towardsdatascience.com/phik-k-get-familiar-with-the-latest-correlation-coefficient-9ba0032b37e7)).\n",
    "- `Permutation importance` (из `scikit-learn`).\n",
    "- `SHAP values` (из библиотеки `shap`).\n",
    "- `CatBoost Feature Selection` (рекурсивные методы).\n",
    "    "
   ]
  },
  {
   "cell_type": "code",
   "execution_count": 10,
   "outputs": [
    {
     "data": {
      "text/plain": "        car_rating  year_to_start         riders  year_to_work   target_reg  \\\ncount  2337.000000    2337.000000    2337.000000   2337.000000  2337.000000   \nmean      4.354292    2014.040650   63711.443731   2018.069748    44.946735   \nstd       0.996954       1.685852   33755.012096      2.159484    17.579568   \nmin       0.980000    2011.000000      23.000000   2014.000000    18.920000   \n25%       3.740000    2013.000000   41053.000000   2016.000000    31.670000   \n50%       4.360000    2014.000000   64415.000000   2018.000000    40.170000   \n75%       5.000000    2015.000000   86515.000000   2020.000000    54.790000   \nmax       8.900000    2017.000000  142862.000000   2022.000000   141.630000   \n\n       mean_rating   min_rating  mean_ride_duration  ride_qty  \\\ncount  2337.000000  2337.000000         2337.000000    2337.0   \nmean      4.478831     0.138870         1663.627679     174.0   \nstd       0.418588     0.163978          489.857337       0.0   \nmin       3.529885     0.000000          221.689655     174.0   \n25%       4.155747     0.100000         1318.454023     174.0   \n50%       4.442989     0.100000         1634.402299     174.0   \n75%       4.675345     0.100000         1971.103448     174.0   \nmax       5.700747     1.500000         3633.712644     174.0   \n\n       mean_user_ride_quality  ...  mean_deviation       revenue  \\\ncount             2337.000000  ...     2337.000000  2.337000e+03   \nmean                -0.173748  ...       -1.532298  3.627590e+06   \nstd                  8.966969  ...       14.795166  1.412296e+06   \nmin                -36.143281  ...      -67.437615  4.006630e+05   \n25%                 -5.762302  ...       -7.543184  2.713455e+06   \n50%                 -0.659841  ...       -2.293339  3.412835e+06   \n75%                  5.534738  ...        6.332126  4.205896e+06   \nmax                 33.885249  ...       66.415126  1.336334e+07   \n\n          avg_check    avg_speed    max_speed  mean_user_rating      avg_sex  \\\ncount   2337.000000  2337.000000  2337.000000       2337.000000  2337.000000   \nmean   20848.220715    46.987967    83.783434          8.024367     0.474742   \nstd     8116.641364     2.761202    11.299347          0.173792     0.052298   \nmin     2302.660920    42.436782    64.144588          7.677011     0.293103   \n25%    15594.568966    44.511494    73.992927          7.931609     0.436782   \n50%    19613.994253    45.689655    86.132087          8.031034     0.477011   \n75%    24171.816092    49.666667    93.139549          8.101724     0.511494   \nmax    76800.833333    53.132184   106.811364          9.271264     0.626437   \n\n       avg_user_age  total_fixes  total_fix_duration  \ncount   2337.000000  2337.000000         2337.000000  \nmean      34.111952    34.356012          896.765939  \nstd        1.039410     0.478921           76.256346  \nmin       31.109195    34.000000          649.000000  \n25%       33.396552    34.000000          845.000000  \n50%       34.028736    34.000000          897.000000  \n75%       34.770115    35.000000          945.000000  \nmax       37.873563    35.000000         1203.000000  \n\n[8 rows x 21 columns]",
      "text/html": "<div>\n<style scoped>\n    .dataframe tbody tr th:only-of-type {\n        vertical-align: middle;\n    }\n\n    .dataframe tbody tr th {\n        vertical-align: top;\n    }\n\n    .dataframe thead th {\n        text-align: right;\n    }\n</style>\n<table border=\"1\" class=\"dataframe\">\n  <thead>\n    <tr style=\"text-align: right;\">\n      <th></th>\n      <th>car_rating</th>\n      <th>year_to_start</th>\n      <th>riders</th>\n      <th>year_to_work</th>\n      <th>target_reg</th>\n      <th>mean_rating</th>\n      <th>min_rating</th>\n      <th>mean_ride_duration</th>\n      <th>ride_qty</th>\n      <th>mean_user_ride_quality</th>\n      <th>...</th>\n      <th>mean_deviation</th>\n      <th>revenue</th>\n      <th>avg_check</th>\n      <th>avg_speed</th>\n      <th>max_speed</th>\n      <th>mean_user_rating</th>\n      <th>avg_sex</th>\n      <th>avg_user_age</th>\n      <th>total_fixes</th>\n      <th>total_fix_duration</th>\n    </tr>\n  </thead>\n  <tbody>\n    <tr>\n      <th>count</th>\n      <td>2337.000000</td>\n      <td>2337.000000</td>\n      <td>2337.000000</td>\n      <td>2337.000000</td>\n      <td>2337.000000</td>\n      <td>2337.000000</td>\n      <td>2337.000000</td>\n      <td>2337.000000</td>\n      <td>2337.0</td>\n      <td>2337.000000</td>\n      <td>...</td>\n      <td>2337.000000</td>\n      <td>2.337000e+03</td>\n      <td>2337.000000</td>\n      <td>2337.000000</td>\n      <td>2337.000000</td>\n      <td>2337.000000</td>\n      <td>2337.000000</td>\n      <td>2337.000000</td>\n      <td>2337.000000</td>\n      <td>2337.000000</td>\n    </tr>\n    <tr>\n      <th>mean</th>\n      <td>4.354292</td>\n      <td>2014.040650</td>\n      <td>63711.443731</td>\n      <td>2018.069748</td>\n      <td>44.946735</td>\n      <td>4.478831</td>\n      <td>0.138870</td>\n      <td>1663.627679</td>\n      <td>174.0</td>\n      <td>-0.173748</td>\n      <td>...</td>\n      <td>-1.532298</td>\n      <td>3.627590e+06</td>\n      <td>20848.220715</td>\n      <td>46.987967</td>\n      <td>83.783434</td>\n      <td>8.024367</td>\n      <td>0.474742</td>\n      <td>34.111952</td>\n      <td>34.356012</td>\n      <td>896.765939</td>\n    </tr>\n    <tr>\n      <th>std</th>\n      <td>0.996954</td>\n      <td>1.685852</td>\n      <td>33755.012096</td>\n      <td>2.159484</td>\n      <td>17.579568</td>\n      <td>0.418588</td>\n      <td>0.163978</td>\n      <td>489.857337</td>\n      <td>0.0</td>\n      <td>8.966969</td>\n      <td>...</td>\n      <td>14.795166</td>\n      <td>1.412296e+06</td>\n      <td>8116.641364</td>\n      <td>2.761202</td>\n      <td>11.299347</td>\n      <td>0.173792</td>\n      <td>0.052298</td>\n      <td>1.039410</td>\n      <td>0.478921</td>\n      <td>76.256346</td>\n    </tr>\n    <tr>\n      <th>min</th>\n      <td>0.980000</td>\n      <td>2011.000000</td>\n      <td>23.000000</td>\n      <td>2014.000000</td>\n      <td>18.920000</td>\n      <td>3.529885</td>\n      <td>0.000000</td>\n      <td>221.689655</td>\n      <td>174.0</td>\n      <td>-36.143281</td>\n      <td>...</td>\n      <td>-67.437615</td>\n      <td>4.006630e+05</td>\n      <td>2302.660920</td>\n      <td>42.436782</td>\n      <td>64.144588</td>\n      <td>7.677011</td>\n      <td>0.293103</td>\n      <td>31.109195</td>\n      <td>34.000000</td>\n      <td>649.000000</td>\n    </tr>\n    <tr>\n      <th>25%</th>\n      <td>3.740000</td>\n      <td>2013.000000</td>\n      <td>41053.000000</td>\n      <td>2016.000000</td>\n      <td>31.670000</td>\n      <td>4.155747</td>\n      <td>0.100000</td>\n      <td>1318.454023</td>\n      <td>174.0</td>\n      <td>-5.762302</td>\n      <td>...</td>\n      <td>-7.543184</td>\n      <td>2.713455e+06</td>\n      <td>15594.568966</td>\n      <td>44.511494</td>\n      <td>73.992927</td>\n      <td>7.931609</td>\n      <td>0.436782</td>\n      <td>33.396552</td>\n      <td>34.000000</td>\n      <td>845.000000</td>\n    </tr>\n    <tr>\n      <th>50%</th>\n      <td>4.360000</td>\n      <td>2014.000000</td>\n      <td>64415.000000</td>\n      <td>2018.000000</td>\n      <td>40.170000</td>\n      <td>4.442989</td>\n      <td>0.100000</td>\n      <td>1634.402299</td>\n      <td>174.0</td>\n      <td>-0.659841</td>\n      <td>...</td>\n      <td>-2.293339</td>\n      <td>3.412835e+06</td>\n      <td>19613.994253</td>\n      <td>45.689655</td>\n      <td>86.132087</td>\n      <td>8.031034</td>\n      <td>0.477011</td>\n      <td>34.028736</td>\n      <td>34.000000</td>\n      <td>897.000000</td>\n    </tr>\n    <tr>\n      <th>75%</th>\n      <td>5.000000</td>\n      <td>2015.000000</td>\n      <td>86515.000000</td>\n      <td>2020.000000</td>\n      <td>54.790000</td>\n      <td>4.675345</td>\n      <td>0.100000</td>\n      <td>1971.103448</td>\n      <td>174.0</td>\n      <td>5.534738</td>\n      <td>...</td>\n      <td>6.332126</td>\n      <td>4.205896e+06</td>\n      <td>24171.816092</td>\n      <td>49.666667</td>\n      <td>93.139549</td>\n      <td>8.101724</td>\n      <td>0.511494</td>\n      <td>34.770115</td>\n      <td>35.000000</td>\n      <td>945.000000</td>\n    </tr>\n    <tr>\n      <th>max</th>\n      <td>8.900000</td>\n      <td>2017.000000</td>\n      <td>142862.000000</td>\n      <td>2022.000000</td>\n      <td>141.630000</td>\n      <td>5.700747</td>\n      <td>1.500000</td>\n      <td>3633.712644</td>\n      <td>174.0</td>\n      <td>33.885249</td>\n      <td>...</td>\n      <td>66.415126</td>\n      <td>1.336334e+07</td>\n      <td>76800.833333</td>\n      <td>53.132184</td>\n      <td>106.811364</td>\n      <td>9.271264</td>\n      <td>0.626437</td>\n      <td>37.873563</td>\n      <td>35.000000</td>\n      <td>1203.000000</td>\n    </tr>\n  </tbody>\n</table>\n<p>8 rows × 21 columns</p>\n</div>"
     },
     "execution_count": 10,
     "metadata": {},
     "output_type": "execute_result"
    }
   ],
   "source": [
    "df.describe()"
   ],
   "metadata": {
    "collapsed": false,
    "ExecuteTime": {
     "end_time": "2024-03-31T21:18:38.168656500Z",
     "start_time": "2024-03-31T21:18:37.623110300Z"
    }
   }
  },
  {
   "cell_type": "code",
   "execution_count": 11,
   "outputs": [],
   "source": [
    "from sklearn.feature_selection import SelectFromModel\n",
    "from sklearn.ensemble import RandomForestRegressor\n",
    "import shap\n",
    "\n",
    "\n",
    "\n",
    "constant_features = [\"ride_qty\"]\n",
    "unique_features = [\"car_id\"]\n",
    "unused_features = set(constant_features + unique_features)\n",
    "\n",
    "\n",
    "df.drop(unused_features, axis=1, inplace=True)\n",
    "\n",
    "\n",
    "df_numeric_features = df[df.describe().columns]\n",
    "target = df['target_reg']\n",
    "\n",
    "\n"
   ],
   "metadata": {
    "collapsed": false,
    "ExecuteTime": {
     "end_time": "2024-03-31T21:18:46.671144600Z",
     "start_time": "2024-03-31T21:18:37.861664Z"
    }
   }
  },
  {
   "cell_type": "code",
   "execution_count": 12,
   "outputs": [
    {
     "name": "stdout",
     "output_type": "stream",
     "text": [
      "Корреляция линейная с целевой переменной:\n"
     ]
    },
    {
     "data": {
      "text/plain": "target_reg                1.000000\nmax_speed                 0.391430\nmean_user_rating          0.332570\nmean_deviation            0.134768\nrevenue                   0.075637\navg_check                 0.075637\navg_user_age              0.063658\nmin_rating                0.038629\nyear_to_work              0.034604\nmean_user_ride_quality    0.033530\ncar_rating                0.024515\ntotal_fixes               0.008964\nyear_to_start             0.006390\nriders                    0.003259\navg_sex                  -0.012075\nmean_rating              -0.017549\nmean_ride_duration       -0.036293\ntotal_distance           -0.073692\navg_speed                -0.112508\ntotal_fix_duration       -0.123805\ndtype: float64"
     },
     "execution_count": 12,
     "metadata": {},
     "output_type": "execute_result"
    }
   ],
   "source": [
    "correlation_matrix = df_numeric_features.corrwith(target)\n",
    "print(\"Корреляция линейная с целевой переменной:\")\n",
    "correlation_matrix.sort_values(ascending=False).head(50)"
   ],
   "metadata": {
    "collapsed": false,
    "ExecuteTime": {
     "end_time": "2024-03-31T21:18:46.829111300Z",
     "start_time": "2024-03-31T21:18:46.687662800Z"
    }
   }
  },
  {
   "cell_type": "code",
   "execution_count": 13,
   "outputs": [
    {
     "name": "stdout",
     "output_type": "stream",
     "text": [
      "Метод перестановок:\n"
     ]
    },
    {
     "data": {
      "text/plain": "target_reg                0.999506\nmean_rating               0.000057\nmean_user_ride_quality    0.000054\navg_check                 0.000040\nrevenue                   0.000038\nyear_to_start             0.000036\nriders                    0.000033\nmean_deviation            0.000031\nmean_user_rating          0.000031\ntotal_distance            0.000028\ntotal_fix_duration        0.000026\nyear_to_work              0.000021\nmax_speed                 0.000020\navg_user_age              0.000019\navg_speed                 0.000016\nmean_ride_duration        0.000015\ncar_rating                0.000012\navg_sex                   0.000010\nmin_rating                0.000005\ntotal_fixes               0.000001\ndtype: float64"
     },
     "execution_count": 13,
     "metadata": {},
     "output_type": "execute_result"
    }
   ],
   "source": [
    "regressor = RandomForestRegressor(random_state=42)\n",
    "regressor.fit(df_numeric_features, target)\n",
    "feature_importance = pd.Series(regressor.feature_importances_, index=df_numeric_features.columns).sort_values(ascending=False)\n",
    "print(\"Метод перестановок:\")\n",
    "feature_importance.head(50)"
   ],
   "metadata": {
    "collapsed": false,
    "ExecuteTime": {
     "end_time": "2024-03-31T21:18:54.797166400Z",
     "start_time": "2024-03-31T21:18:46.750402600Z"
    }
   }
  },
  {
   "cell_type": "code",
   "execution_count": 14,
   "outputs": [
    {
     "name": "stdout",
     "output_type": "stream",
     "text": [
      "SHAP:\n"
     ]
    },
    {
     "data": {
      "text/plain": "target_reg                13.798323\nmean_user_ride_quality     0.002206\navg_check                  0.001853\nrevenue                    0.001843\nmean_deviation             0.001689\navg_sex                    0.001629\nmean_rating                0.001581\ntotal_fix_duration         0.001503\nmean_user_rating           0.001499\ntotal_distance             0.001415\nriders                     0.001403\navg_speed                  0.001400\nmax_speed                  0.001282\nyear_to_work               0.001249\ncar_rating                 0.001222\nmean_ride_duration         0.001124\nyear_to_start              0.001097\navg_user_age               0.001051\nmin_rating                 0.000559\ntotal_fixes                0.000415\ndtype: float64"
     },
     "execution_count": 14,
     "metadata": {},
     "output_type": "execute_result"
    }
   ],
   "source": [
    "shap_explainer = shap.TreeExplainer(regressor)\n",
    "shap_scores = shap_explainer.shap_values(df_numeric_features)\n",
    "\n",
    "\n",
    "feature_importance_shap = np.abs(shap_scores).mean(axis=0)\n",
    "feature_importance_shap = pd.Series(feature_importance_shap, index=df_numeric_features.columns).sort_values(ascending=False)\n",
    "\n",
    "print(\"SHAP:\")\n",
    "feature_importance_shap"
   ],
   "metadata": {
    "collapsed": false,
    "ExecuteTime": {
     "end_time": "2024-03-31T21:20:32.263770600Z",
     "start_time": "2024-03-31T21:18:54.761667600Z"
    }
   }
  },
  {
   "cell_type": "code",
   "execution_count": 14,
   "outputs": [],
   "source": [],
   "metadata": {
    "collapsed": false,
    "ExecuteTime": {
     "end_time": "2024-03-31T21:20:32.372864800Z",
     "start_time": "2024-03-31T21:20:32.210835600Z"
    }
   }
  },
  {
   "cell_type": "markdown",
   "source": [
    "Результаты:\n",
    "\n",
    "Линейная корреляция лучше всего показала зависимость (линейную) признаков от таргета. К признакам, демонстрирующим наибольшую линейную зависимость можно отнести - максимальную скорость, средний рейтинг пользователя,  средние значения показателя датчиков о состоянии машины\n"
   ],
   "metadata": {
    "collapsed": false
   }
  },
  {
   "cell_type": "markdown",
   "metadata": {
    "id": "iSjuXdlcbuhx"
   },
   "source": [
    "# Домашнее задание 2. Прогноз времени и вида поломки машин. Настройка ML-модели"
   ]
  },
  {
   "cell_type": "markdown",
   "metadata": {
    "id": "2qoVlxvUbuhx"
   },
   "source": [
    "<div class=\"alert alert-info\">\n",
    "\n",
    "**Цель блока** — составить тренировочную и валидационную выборки, произвести обучение модели `CatBoostClassifier` на тренировочной части и оценить качество на валидационной."
   ]
  },
  {
   "cell_type": "markdown",
   "metadata": {
    "id": "OfqcanLLbuhx"
   },
   "source": [
    "##Обучение первой модели (5 баллов)\n",
    "\n",
    "1.   Новый пункт\n",
    "2.   Новый пункт\n",
    "\n"
   ]
  },
  {
   "cell_type": "markdown",
   "metadata": {
    "id": "ZXhXYJt6buhx"
   },
   "source": [
    "1. Классифицируйте признаки на типы (категориальные, числовые, таргеты).\n",
    "\n",
    "2. Выделите в `X` только признаки, а в `Y` — таргет (для задачи классификации).\n",
    "\n",
    "3. Сделайте разделение данных на *обучающую* и *валидационную* выборки (не забывайте про воспроизводимость результатов).\n",
    "\n",
    "4. Создайте и обучите `CatBoostClassifier` модель (настраивать гиперпараметры сейчас не обязательно).\n",
    "\n",
    "5. Проведите оценку вашей модели, используя метрику `accuracy`.\n",
    "\n",
    "\n",
    "<h4> Критерии оценивания </h4>\n",
    "    \n",
    "- По 1 баллу за каждый корректно выполненный пункт.\n",
    "\n",
    "</div>"
   ]
  },
  {
   "cell_type": "code",
   "execution_count": 15,
   "outputs": [
    {
     "data": {
      "text/plain": "               model  car_type fuel_type  car_rating  year_to_start  riders  \\\n0     Kia Rio X-line   economy    petrol        3.78           2015   76163   \n1         VW Polo VI   economy    petrol        3.90           2015   78218   \n2    Renault Sandero  standart    petrol        6.30           2012   23340   \n3  Mercedes-Benz GLC  business    petrol        4.04           2011    1263   \n4    Renault Sandero  standart    petrol        4.70           2012   26428   \n\n   year_to_work  target_reg target_class  mean_rating  ...  revenue  \\\n0          2021      108.53  another_bug     4.737759  ...  3498596   \n1          2021       35.20  electro_bug     4.480517  ...  4665569   \n2          2017       38.62   gear_stick     4.768391  ...  4173876   \n3          2020       30.34  engine_fuel     3.880920  ...  6584001   \n4          2017       30.45  engine_fuel     4.181149  ...  3460587   \n\n      avg_check  avg_speed  max_speed  mean_user_rating   avg_sex  \\\n0  20106.873563  44.660920  87.183965          8.229885  0.505747   \n1  26813.614943  49.862069  89.474427          7.988506  0.419540   \n2  23987.793103  44.005747  67.473599          7.843103  0.551724   \n3  37839.086207  49.344828  86.661339          8.524138  0.442529   \n4  19888.431034  50.603448  86.263698          8.112069  0.465517   \n\n   avg_user_age  total_fixes  total_fix_duration    last_fix_date  \n0     33.511494           35                 933  2021-12-1 11:33  \n1     34.988506           35                 873    2021-6-1 13:9  \n2     32.839080           35                 915   2021-9-13 7:30  \n3     34.977011           35                1007  2021-9-20 15:46  \n4     34.298851           35                 981   2021-3-26 8:50  \n\n[5 rows x 25 columns]",
      "text/html": "<div>\n<style scoped>\n    .dataframe tbody tr th:only-of-type {\n        vertical-align: middle;\n    }\n\n    .dataframe tbody tr th {\n        vertical-align: top;\n    }\n\n    .dataframe thead th {\n        text-align: right;\n    }\n</style>\n<table border=\"1\" class=\"dataframe\">\n  <thead>\n    <tr style=\"text-align: right;\">\n      <th></th>\n      <th>model</th>\n      <th>car_type</th>\n      <th>fuel_type</th>\n      <th>car_rating</th>\n      <th>year_to_start</th>\n      <th>riders</th>\n      <th>year_to_work</th>\n      <th>target_reg</th>\n      <th>target_class</th>\n      <th>mean_rating</th>\n      <th>...</th>\n      <th>revenue</th>\n      <th>avg_check</th>\n      <th>avg_speed</th>\n      <th>max_speed</th>\n      <th>mean_user_rating</th>\n      <th>avg_sex</th>\n      <th>avg_user_age</th>\n      <th>total_fixes</th>\n      <th>total_fix_duration</th>\n      <th>last_fix_date</th>\n    </tr>\n  </thead>\n  <tbody>\n    <tr>\n      <th>0</th>\n      <td>Kia Rio X-line</td>\n      <td>economy</td>\n      <td>petrol</td>\n      <td>3.78</td>\n      <td>2015</td>\n      <td>76163</td>\n      <td>2021</td>\n      <td>108.53</td>\n      <td>another_bug</td>\n      <td>4.737759</td>\n      <td>...</td>\n      <td>3498596</td>\n      <td>20106.873563</td>\n      <td>44.660920</td>\n      <td>87.183965</td>\n      <td>8.229885</td>\n      <td>0.505747</td>\n      <td>33.511494</td>\n      <td>35</td>\n      <td>933</td>\n      <td>2021-12-1 11:33</td>\n    </tr>\n    <tr>\n      <th>1</th>\n      <td>VW Polo VI</td>\n      <td>economy</td>\n      <td>petrol</td>\n      <td>3.90</td>\n      <td>2015</td>\n      <td>78218</td>\n      <td>2021</td>\n      <td>35.20</td>\n      <td>electro_bug</td>\n      <td>4.480517</td>\n      <td>...</td>\n      <td>4665569</td>\n      <td>26813.614943</td>\n      <td>49.862069</td>\n      <td>89.474427</td>\n      <td>7.988506</td>\n      <td>0.419540</td>\n      <td>34.988506</td>\n      <td>35</td>\n      <td>873</td>\n      <td>2021-6-1 13:9</td>\n    </tr>\n    <tr>\n      <th>2</th>\n      <td>Renault Sandero</td>\n      <td>standart</td>\n      <td>petrol</td>\n      <td>6.30</td>\n      <td>2012</td>\n      <td>23340</td>\n      <td>2017</td>\n      <td>38.62</td>\n      <td>gear_stick</td>\n      <td>4.768391</td>\n      <td>...</td>\n      <td>4173876</td>\n      <td>23987.793103</td>\n      <td>44.005747</td>\n      <td>67.473599</td>\n      <td>7.843103</td>\n      <td>0.551724</td>\n      <td>32.839080</td>\n      <td>35</td>\n      <td>915</td>\n      <td>2021-9-13 7:30</td>\n    </tr>\n    <tr>\n      <th>3</th>\n      <td>Mercedes-Benz GLC</td>\n      <td>business</td>\n      <td>petrol</td>\n      <td>4.04</td>\n      <td>2011</td>\n      <td>1263</td>\n      <td>2020</td>\n      <td>30.34</td>\n      <td>engine_fuel</td>\n      <td>3.880920</td>\n      <td>...</td>\n      <td>6584001</td>\n      <td>37839.086207</td>\n      <td>49.344828</td>\n      <td>86.661339</td>\n      <td>8.524138</td>\n      <td>0.442529</td>\n      <td>34.977011</td>\n      <td>35</td>\n      <td>1007</td>\n      <td>2021-9-20 15:46</td>\n    </tr>\n    <tr>\n      <th>4</th>\n      <td>Renault Sandero</td>\n      <td>standart</td>\n      <td>petrol</td>\n      <td>4.70</td>\n      <td>2012</td>\n      <td>26428</td>\n      <td>2017</td>\n      <td>30.45</td>\n      <td>engine_fuel</td>\n      <td>4.181149</td>\n      <td>...</td>\n      <td>3460587</td>\n      <td>19888.431034</td>\n      <td>50.603448</td>\n      <td>86.263698</td>\n      <td>8.112069</td>\n      <td>0.465517</td>\n      <td>34.298851</td>\n      <td>35</td>\n      <td>981</td>\n      <td>2021-3-26 8:50</td>\n    </tr>\n  </tbody>\n</table>\n<p>5 rows × 25 columns</p>\n</div>"
     },
     "execution_count": 15,
     "metadata": {},
     "output_type": "execute_result"
    }
   ],
   "source": [
    "df.head()"
   ],
   "metadata": {
    "collapsed": false,
    "ExecuteTime": {
     "end_time": "2024-03-31T21:20:32.473660900Z",
     "start_time": "2024-03-31T21:20:32.230689100Z"
    }
   }
  },
  {
   "cell_type": "code",
   "execution_count": 16,
   "metadata": {
    "id": "klrOFoVpbuhx",
    "ExecuteTime": {
     "end_time": "2024-03-31T21:20:33.506110300Z",
     "start_time": "2024-03-31T21:20:32.320299200Z"
    }
   },
   "outputs": [],
   "source": [
    "from catboost import CatBoostClassifier\n",
    "from sklearn.model_selection import train_test_split\n",
    "from sklearn.metrics import accuracy_score"
   ]
  },
  {
   "cell_type": "code",
   "execution_count": 17,
   "metadata": {
    "id": "lqwlTU2gbuhz",
    "ExecuteTime": {
     "end_time": "2024-03-31T21:20:33.689570100Z",
     "start_time": "2024-03-31T21:20:33.517997300Z"
    }
   },
   "outputs": [
    {
     "name": "stdout",
     "output_type": "stream",
     "text": [
      "Категориальные признаки: 4 ['model', 'car_type', 'fuel_type', 'last_fix_date']\n",
      "Числовые признаки: 19 ['car_rating', 'year_to_start', 'riders', 'year_to_work', 'mean_rating', 'min_rating', 'mean_ride_duration', 'mean_user_ride_quality', 'total_distance', 'mean_deviation', 'revenue', 'avg_check', 'avg_speed', 'max_speed', 'mean_user_rating', 'avg_sex', 'avg_user_age', 'total_fixes', 'total_fix_duration']\n",
      "Целевые переменные ['target_reg', 'target_class']\n"
     ]
    }
   ],
   "source": [
    "features2drop = [''] # то, что надо выбросить\n",
    "targets = ['target_reg', 'target_class'] # таргеты\n",
    "target_column = df['target_class']\n",
    "df_wo_targets = df.drop(targets, axis=1, errors='ignore')\n",
    "cat_features = list(df_wo_targets.describe(include='O').columns) # категориальные признаки\n",
    "\n",
    "num_features = list(df_wo_targets.describe().columns) # числовые признаки\n",
    "\n",
    "print('Категориальные признаки:', len(cat_features), cat_features)\n",
    "print('Числовые признаки:', len(num_features), num_features)\n",
    "print('Целевые переменные', targets)"
   ]
  },
  {
   "cell_type": "code",
   "execution_count": 18,
   "metadata": {
    "id": "tGK5sgaQbuhz",
    "ExecuteTime": {
     "end_time": "2024-03-31T21:23:32.427082700Z",
     "start_time": "2024-03-31T21:20:33.643715800Z"
    }
   },
   "outputs": [
    {
     "name": "stdout",
     "output_type": "stream",
     "text": [
      "Learning rate set to 0.109335\n",
      "0:\tlearn: 1.6884058\ttest: 1.6653929\tbest: 1.6653929 (0)\ttotal: 262ms\tremaining: 4m 22s\n",
      "150:\tlearn: 0.0766485\ttest: 0.1198118\tbest: 0.1198118 (150)\ttotal: 36s\tremaining: 3m 22s\n",
      "300:\tlearn: 0.0428887\ttest: 0.1096650\tbest: 0.1096650 (300)\ttotal: 1m\tremaining: 2m 21s\n",
      "450:\tlearn: 0.0270402\ttest: 0.1049102\tbest: 0.1049102 (450)\ttotal: 1m 25s\tremaining: 1m 43s\n",
      "600:\tlearn: 0.0190178\ttest: 0.1021772\tbest: 0.1018145 (564)\ttotal: 1m 50s\tremaining: 1m 13s\n",
      "750:\tlearn: 0.0142025\ttest: 0.1016430\tbest: 0.1013778 (645)\ttotal: 2m 15s\tremaining: 44.8s\n",
      "900:\tlearn: 0.0110504\ttest: 0.1020696\tbest: 0.1013778 (645)\ttotal: 2m 41s\tremaining: 17.7s\n",
      "999:\tlearn: 0.0097061\ttest: 0.1024461\tbest: 0.1013778 (645)\ttotal: 2m 57s\tremaining: 0us\n",
      "\n",
      "bestTest = 0.1013778163\n",
      "bestIteration = 645\n",
      "\n",
      "Shrink model to first 646 iterations.\n",
      "\n",
      " Точность: 0.9636752136752137\n"
     ]
    }
   ],
   "source": [
    "# YOUR CODE HERE\n",
    "\n",
    "\n",
    "# Разбиваем данные на обучающую и тестовую выборки\n",
    "train_features, test_features, train_target, test_target = train_test_split(df_wo_targets, target_column, test_size=0.2)\n",
    "\n",
    "# Создаем классификатор CatBoost\n",
    "catboost_model = CatBoostClassifier(cat_features=cat_features)\n",
    "\n",
    "# Обучаем модель\n",
    "catboost_model.fit(train_features, train_target,\n",
    "          eval_set=(test_features, test_target),\n",
    "          verbose=150, plot=False)\n",
    "\n",
    "# Инференс\n",
    "predicted_target = catboost_model.predict(test_features)\n",
    "print(f'\\n Точность: {accuracy_score(test_target, predicted_target)}')"
   ]
  },
  {
   "cell_type": "markdown",
   "metadata": {
    "id": "pWAOjGCIbuhz"
   },
   "source": [
    "# Дополнительное задание. Визуализация прогнозов, ошибок модели и важности признаков"
   ]
  },
  {
   "cell_type": "markdown",
   "metadata": {
    "id": "oCvZU_ksbuhz"
   },
   "source": [
    "<div class=\"alert alert-info\">\n",
    "\n",
    "**Цель блока** — визуализировать результаты прогнозирования, ошибки модели и важность признаков для лучшего понимания и анализа модели."
   ]
  },
  {
   "cell_type": "markdown",
   "metadata": {
    "id": "onsptUygbuhz"
   },
   "source": [
    "## Визуализация (5 баллов)"
   ]
  },
  {
   "cell_type": "markdown",
   "metadata": {
    "id": "t3gAT3YHbuhz"
   },
   "source": [
    "   \n",
    "1. Визуализируйте важность признаков встроенным методом в `CatBoost`  (помните, что не стоит сильно доверять этому рейтингу важности, т. к. для сильно скоррелированных признаков важность делится пополам — оба признака могут улететь вниз).\n",
    "\n",
    "2. Постройте `waterfall_plot` из библиотеки `SHAP` (подробнее во втором ноутбуке из полезных ссылок ниже).\n",
    "    \n",
    "3. Постройте `classification_report` из библиотеки `scikit-learn`.\n",
    "\n",
    "4. Постройте и визуализируйте матрицу смежности (`confusion_matrix`), посмотрите, в каких классах модель больше всего ошибается.\n",
    "    \n",
    "5. Для каждого графика/примененного метода проинтерпретируйте результаты и сделайте выводы.\n",
    "\n",
    "\n",
    "<h4> Критерии оценивания </h4>\n",
    "    \n",
    "- По 1 баллу за каждый корректно выполненный пункт.\n",
    "    \n",
    "</div>\n",
    "\n",
    "<div class=\"alert alert-success\">\n",
    "\n",
    "Визуализация может помочь даже после того, как мы **уже обучили** какую-нибудь модель. Например:\n",
    "\n",
    "- Понять, что мешает модели или чего не хватает, чтобы не допускать ошибки.\n",
    "- Сделать выводы, как можно улучшить точность в последующих экспериментах.\n",
    "- Визуализировать ошибки модели.\n",
    "- Отсеять лишние признаки.\n",
    "- Найти идеи для новых признаков.\n",
    "- Все зависит от типа ваших данных.\n",
    "\n",
    "<h3> Полезные источники </h3>\n",
    "    \n",
    "- Занятие про визуализацию и Seaborn.\n",
    "- Занятие про продвинутую визуализацию и анализ ошибок модели.\n",
    "\n",
    "</div>    "
   ]
  },
  {
   "cell_type": "code",
   "execution_count": 19,
   "outputs": [
    {
     "data": {
      "text/plain": "<Figure size 1000x600 with 1 Axes>",
      "image/png": "[encoded data removed]"
     },
     "metadata": {},
     "output_type": "display_data"
    }
   ],
   "source": [
    "import matplotlib.pyplot as plt\n",
    "import shap\n",
    "from sklearn.metrics import classification_report, confusion_matrix, ConfusionMatrixDisplay\n",
    "\n",
    "\n",
    "importances = catboost_model.feature_importances_\n",
    "\n",
    "# Визуализация важности признаков\n",
    "plt.figure(figsize=(10, 6))\n",
    "plt.barh(range(len(importances)), importances, align='center')\n",
    "plt.yticks(range(len(train_features.columns)), train_features.columns)\n",
    "plt.xlabel('Важность признака')\n",
    "plt.ylabel('Признаки')\n",
    "plt.title('Важность признаков')\n",
    "plt.show()\n"
   ],
   "metadata": {
    "collapsed": false,
    "ExecuteTime": {
     "end_time": "2024-03-31T21:23:33.727349100Z",
     "start_time": "2024-03-31T21:23:32.393028100Z"
    }
   }
  },
  {
   "cell_type": "code",
   "execution_count": 20,
   "metadata": {
    "id": "EYvkiOcrbuh0",
    "ExecuteTime": {
     "end_time": "2024-03-31T21:23:45.606330100Z",
     "start_time": "2024-03-31T21:23:33.705580900Z"
    }
   },
   "outputs": [
    {
     "data": {
      "text/plain": "<Figure size 800x650 with 3 Axes>",
      "image/png": "[encoded data removed]"
     },
     "metadata": {},
     "output_type": "display_data"
    }
   ],
   "source": [
    "# Использование SHAP для интерпретации модели\n",
    "explainer = shap.TreeExplainer(catboost_model)\n",
    "shap_values = explainer(test_features)\n",
    "shap.plots.waterfall(shap_values[0][:,0])\n"
   ]
  },
  {
   "cell_type": "code",
   "execution_count": 20,
   "outputs": [],
   "source": [],
   "metadata": {
    "collapsed": false,
    "ExecuteTime": {
     "end_time": "2024-03-31T21:23:45.646305Z",
     "start_time": "2024-03-31T21:23:45.604763600Z"
    }
   }
  },
  {
   "cell_type": "code",
   "execution_count": 21,
   "outputs": [
    {
     "name": "stdout",
     "output_type": "stream",
     "text": [
      "                 precision    recall  f1-score   support\n",
      "\n",
      "    another_bug       1.00      0.98      0.99        60\n",
      "      break_bug       1.00      1.00      1.00        56\n",
      "    electro_bug       1.00      1.00      1.00        54\n",
      "   engine_check       0.89      0.86      0.88        49\n",
      "    engine_fuel       1.00      0.96      0.98        50\n",
      "engine_ignition       0.93      0.98      0.96        58\n",
      "engine_overheat       0.98      0.96      0.97        55\n",
      "     gear_stick       1.00      1.00      1.00        54\n",
      "    wheel_shake       0.80      0.88      0.84        32\n",
      "\n",
      "       accuracy                           0.96       468\n",
      "      macro avg       0.96      0.96      0.96       468\n",
      "   weighted avg       0.96      0.96      0.96       468\n"
     ]
    },
    {
     "data": {
      "text/plain": "<sklearn.metrics._plot.confusion_matrix.ConfusionMatrixDisplay at 0x15c89a15dc0>"
     },
     "execution_count": 21,
     "metadata": {},
     "output_type": "execute_result"
    },
    {
     "data": {
      "text/plain": "<Figure size 640x480 with 2 Axes>",
      "image/png": "[encoded data removed]"
     },
     "metadata": {},
     "output_type": "display_data"
    }
   ],
   "source": [
    "# Вывод отчета о классификации\n",
    "predicted = catboost_model.predict(test_features)\n",
    "report = classification_report(y_true=test_target, y_pred=predicted, target_names=catboost_model.classes_)\n",
    "print(report)\n",
    "\n",
    "# Вывод матрицы ошибок\n",
    "ConfusionMatrixDisplay.from_estimator(catboost_model, test_features, test_target, display_labels=catboost_model.classes_, xticks_rotation=25)"
   ],
   "metadata": {
    "collapsed": false,
    "ExecuteTime": {
     "end_time": "2024-03-31T21:23:46.919362Z",
     "start_time": "2024-03-31T21:23:45.621497500Z"
    }
   }
  },
  {
   "cell_type": "markdown",
   "metadata": {
    "id": "pL8evJIMbuh0"
   },
   "source": [
    "# Домашнее задание 3. Оптимизация. Тюнинг гиперпараметров с помощью `Optuna`"
   ]
  },
  {
   "cell_type": "markdown",
   "metadata": {
    "id": "ZmanV8V8buh0"
   },
   "source": [
    "<div class=\"alert alert-info\">\n",
    "\n",
    "**Цель блока** — улучшить качество предсказания, произведя подбор гиперпараметров для модели с помощью `Optuna`."
   ]
  },
  {
   "cell_type": "markdown",
   "metadata": {
    "id": "qEbxkZf8buh1"
   },
   "source": [
    "## Подбор гиперпараметров (3 балла)"
   ]
  },
  {
   "cell_type": "markdown",
   "metadata": {
    "id": "XogayH7Hbuh1"
   },
   "source": [
    "1. Напишите `objective` функцию и запустите `Optuna`.\n",
    "2. Подберите гиперпараметры для `CatBoostClassifier` (минимум 3).\n",
    "3. Обучите модель с новыми гиперпараметрами, сравните качество и сделайте выводы.\n",
    "\n",
    "    \n",
    "<h4> Критерии оценивания </h4>\n",
    "    \n",
    "- 1 балл за каждый корректно выполненный пункт.\n",
    "    \n",
    "</div>"
   ]
  },
  {
   "cell_type": "code",
   "execution_count": 22,
   "metadata": {
    "id": "UrNbom9qbuh1",
    "ExecuteTime": {
     "end_time": "2024-03-31T21:24:49.670913800Z",
     "start_time": "2024-03-31T21:23:46.965474400Z"
    }
   },
   "outputs": [
    {
     "name": "stderr",
     "output_type": "stream",
     "text": [
      "[I 2024-04-01 00:23:47,500] A new study created in memory with name: no-name-de0da2af-25ae-4df5-a11d-4790cfad9de5\n"
     ]
    },
    {
     "data": {
      "text/plain": "  0%|          | 0/1000 [00:00<?, ?it/s]",
      "application/vnd.jupyter.widget-view+json": {
       "version_major": 2,
       "version_minor": 0,
       "model_id": "ee440539145e416e991f2ef532e021fd"
      }
     },
     "metadata": {},
     "output_type": "display_data"
    },
    {
     "name": "stdout",
     "output_type": "stream",
     "text": [
      "[I 2024-04-01 00:23:52,841] Trial 2 finished with value: 0.7704654895666132 and parameters: {'l2_leaf_reg': 16, 'colsample_bylevel': 0.6706067003495093, 'learning_rate': 0.007247953676057822, 'boosting_type': 'Plain', 'bootstrap_type': 'Bayesian', 'auto_class_weights': 'None', 'depth': 3, 'bagging_temperature': 13.989272955101626}. Best is trial 2 with value: 0.7704654895666132.\n",
      "[I 2024-04-01 00:23:53,772] Trial 3 finished with value: 0.8774745853397539 and parameters: {'l2_leaf_reg': 49, 'colsample_bylevel': 0.5582226290951023, 'learning_rate': 0.003269238424067338, 'boosting_type': 'Plain', 'bootstrap_type': 'MVS', 'auto_class_weights': 'None', 'depth': 3}. Best is trial 3 with value: 0.8774745853397539.\n",
      "[I 2024-04-01 00:23:54,185] Trial 0 finished with value: 0.875334403424291 and parameters: {'l2_leaf_reg': 33, 'colsample_bylevel': 0.5568880790770367, 'learning_rate': 0.007844195053938722, 'boosting_type': 'Plain', 'bootstrap_type': 'Bayesian', 'auto_class_weights': 'None', 'depth': 3, 'bagging_temperature': 1.0601878915355778}. Best is trial 3 with value: 0.8774745853397539.\n",
      "[I 2024-04-01 00:23:55,094] Trial 7 finished with value: 0.8694489031567684 and parameters: {'l2_leaf_reg': 50, 'colsample_bylevel': 0.49168597476275633, 'learning_rate': 0.0032331750293285704, 'boosting_type': 'Plain', 'bootstrap_type': 'Bayesian', 'auto_class_weights': 'SqrtBalanced', 'depth': 4, 'bagging_temperature': 5.280437151743495}. Best is trial 3 with value: 0.8774745853397539.\n",
      "[I 2024-04-01 00:24:00,569] Trial 8 finished with value: 0.8544676297485286 and parameters: {'l2_leaf_reg': 33, 'colsample_bylevel': 0.2388208439402831, 'learning_rate': 0.007926258523434648, 'boosting_type': 'Plain', 'bootstrap_type': 'Bernoulli', 'auto_class_weights': 'SqrtBalanced', 'depth': 7, 'subsample': 0.11591173887697973}. Best is trial 3 with value: 0.8774745853397539.\n",
      "[I 2024-04-01 00:24:01,593] Trial 10 finished with value: 0.85928303905832 and parameters: {'l2_leaf_reg': 21, 'colsample_bylevel': 0.1714701586940278, 'learning_rate': 0.007522093895660392, 'boosting_type': 'Ordered', 'bootstrap_type': 'MVS', 'auto_class_weights': 'SqrtBalanced', 'depth': 3}. Best is trial 3 with value: 0.8774745853397539.\n",
      "[I 2024-04-01 00:24:03,813] Trial 11 finished with value: 0.8967362225789192 and parameters: {'l2_leaf_reg': 8, 'colsample_bylevel': 0.13064310251679612, 'learning_rate': 0.004784055511671411, 'boosting_type': 'Plain', 'bootstrap_type': 'Bayesian', 'auto_class_weights': 'Balanced', 'depth': 5, 'bagging_temperature': 4.183721773837452}. Best is trial 11 with value: 0.8967362225789192.\n",
      "[I 2024-04-01 00:24:07,780] Trial 9 finished with value: 0.875334403424291 and parameters: {'l2_leaf_reg': 19, 'colsample_bylevel': 0.6211873070169143, 'learning_rate': 0.0019732858106310787, 'boosting_type': 'Ordered', 'bootstrap_type': 'Bayesian', 'auto_class_weights': 'SqrtBalanced', 'depth': 3, 'bagging_temperature': 5.649194812583906}. Best is trial 11 with value: 0.8967362225789192.\n",
      "[I 2024-04-01 00:24:14,035] Trial 6 finished with value: 0.92776886035313 and parameters: {'l2_leaf_reg': 2, 'colsample_bylevel': 0.7660371370900922, 'learning_rate': 0.009475458381667006, 'boosting_type': 'Plain', 'bootstrap_type': 'MVS', 'auto_class_weights': 'Balanced', 'depth': 6}. Best is trial 6 with value: 0.92776886035313.\n",
      "[I 2024-04-01 00:24:16,674] Trial 13 finished with value: 0.8913857677902621 and parameters: {'l2_leaf_reg': 32, 'colsample_bylevel': 0.762731002738733, 'learning_rate': 0.009311139980685924, 'boosting_type': 'Ordered', 'bootstrap_type': 'Bernoulli', 'auto_class_weights': 'SqrtBalanced', 'depth': 3, 'subsample': 0.3687453607689076}. Best is trial 6 with value: 0.92776886035313.\n",
      "[I 2024-04-01 00:24:22,826] Trial 1 finished with value: 0.9138576779026217 and parameters: {'l2_leaf_reg': 39, 'colsample_bylevel': 0.42826806934686795, 'learning_rate': 0.005151810010558096, 'boosting_type': 'Ordered', 'bootstrap_type': 'Bernoulli', 'auto_class_weights': 'Balanced', 'depth': 6, 'subsample': 0.46191096121676156}. Best is trial 6 with value: 0.92776886035313.\n",
      "[W 2024-04-01 00:24:23,011] Trial 16 failed with parameters: {'l2_leaf_reg': 34, 'colsample_bylevel': 0.7555166013639409, 'learning_rate': 0.008375110897494133, 'boosting_type': 'Plain', 'bootstrap_type': 'Bernoulli', 'auto_class_weights': 'SqrtBalanced', 'depth': 8, 'subsample': 0.5183644744918688} because of the following error: RuntimeError('Attempt to pop from an empty stack').\n",
      "Traceback (most recent call last):\n",
      "  File \"C:\\projects\\test\\venv\\lib\\site-packages\\optuna\\study\\_optimize.py\", line 196, in _run_trial\n",
      "    value_or_values = func(trial)\n",
      "  File \"C:\\Users\\damos\\AppData\\Local\\Temp\\ipykernel_15120\\3758288776.py\", line 61, in objective\n",
      "    model, preds = train_catboost(X_train_fold, y_train_fold, X_val_fold, y_val_fold, params)\n",
      "  File \"C:\\Users\\damos\\AppData\\Local\\Temp\\ipykernel_15120\\3758288776.py\", line 39, in train_catboost\n",
      "    model.fit(\n",
      "  File \"C:\\projects\\test\\venv\\lib\\site-packages\\catboost\\core.py\", line 5201, in fit\n",
      "    self._fit(X, y, cat_features, text_features, embedding_features, None, sample_weight, None, None, None, None, baseline, use_best_model,\n",
      "  File \"C:\\projects\\test\\venv\\lib\\site-packages\\catboost\\core.py\", line 2433, in _fit\n",
      "    self.get_feature_importance(type=EFstrType.PredictionValuesChange)\n",
      "  File \"C:\\Users\\damos\\.pyenv\\pyenv-win\\versions\\3.9.6\\lib\\contextlib.py\", line 124, in __exit__\n",
      "    next(self.gen)\n",
      "  File \"C:\\projects\\test\\venv\\lib\\site-packages\\catboost\\core.py\", line 186, in log_fixup\n",
      "    _custom_loggers_stack.pop()\n",
      "  File \"C:\\projects\\test\\venv\\lib\\site-packages\\catboost\\core.py\", line 165, in pop\n",
      "    raise RuntimeError('Attempt to pop from an empty stack')\n",
      "RuntimeError: Attempt to pop from an empty stack\n",
      "[W 2024-04-01 00:24:23,102] Trial 16 failed with value None.\n",
      "[W 2024-04-01 00:24:25,662] Trial 4 failed with parameters: {'l2_leaf_reg': 37, 'colsample_bylevel': 0.46073443924822205, 'learning_rate': 0.003747225967182149, 'boosting_type': 'Ordered', 'bootstrap_type': 'Bernoulli', 'auto_class_weights': 'SqrtBalanced', 'depth': 7, 'subsample': 0.5212678494822499} because of the following error: RuntimeError('Attempt to pop from an empty stack').\n",
      "Traceback (most recent call last):\n",
      "  File \"C:\\projects\\test\\venv\\lib\\site-packages\\optuna\\study\\_optimize.py\", line 196, in _run_trial\n",
      "    value_or_values = func(trial)\n",
      "  File \"C:\\Users\\damos\\AppData\\Local\\Temp\\ipykernel_15120\\3758288776.py\", line 61, in objective\n",
      "    model, preds = train_catboost(X_train_fold, y_train_fold, X_val_fold, y_val_fold, params)\n",
      "  File \"C:\\Users\\damos\\AppData\\Local\\Temp\\ipykernel_15120\\3758288776.py\", line 39, in train_catboost\n",
      "    model.fit(\n",
      "  File \"C:\\projects\\test\\venv\\lib\\site-packages\\catboost\\core.py\", line 5201, in fit\n",
      "    self._fit(X, y, cat_features, text_features, embedding_features, None, sample_weight, None, None, None, None, baseline, use_best_model,\n",
      "  File \"C:\\projects\\test\\venv\\lib\\site-packages\\catboost\\core.py\", line 2433, in _fit\n",
      "    self.get_feature_importance(type=EFstrType.PredictionValuesChange)\n",
      "  File \"C:\\Users\\damos\\.pyenv\\pyenv-win\\versions\\3.9.6\\lib\\contextlib.py\", line 124, in __exit__\n",
      "    next(self.gen)\n",
      "  File \"C:\\projects\\test\\venv\\lib\\site-packages\\catboost\\core.py\", line 186, in log_fixup\n",
      "    _custom_loggers_stack.pop()\n",
      "  File \"C:\\projects\\test\\venv\\lib\\site-packages\\catboost\\core.py\", line 165, in pop\n",
      "    raise RuntimeError('Attempt to pop from an empty stack')\n",
      "RuntimeError: Attempt to pop from an empty stack\n",
      "[W 2024-04-01 00:24:25,679] Trial 4 failed with value None.\n",
      "[W 2024-04-01 00:24:28,008] Trial 12 failed with parameters: {'l2_leaf_reg': 34, 'colsample_bylevel': 0.22568157325668725, 'learning_rate': 0.0028890519183768374, 'boosting_type': 'Plain', 'bootstrap_type': 'Bernoulli', 'auto_class_weights': 'Balanced', 'depth': 9, 'subsample': 0.8142055168222977} because of the following error: RuntimeError('Attempt to pop from an empty stack').\n",
      "Traceback (most recent call last):\n",
      "  File \"C:\\projects\\test\\venv\\lib\\site-packages\\optuna\\study\\_optimize.py\", line 196, in _run_trial\n",
      "    value_or_values = func(trial)\n",
      "  File \"C:\\Users\\damos\\AppData\\Local\\Temp\\ipykernel_15120\\3758288776.py\", line 61, in objective\n",
      "    model, preds = train_catboost(X_train_fold, y_train_fold, X_val_fold, y_val_fold, params)\n",
      "  File \"C:\\Users\\damos\\AppData\\Local\\Temp\\ipykernel_15120\\3758288776.py\", line 39, in train_catboost\n",
      "    model.fit(\n",
      "  File \"C:\\projects\\test\\venv\\lib\\site-packages\\catboost\\core.py\", line 5201, in fit\n",
      "    self._fit(X, y, cat_features, text_features, embedding_features, None, sample_weight, None, None, None, None, baseline, use_best_model,\n",
      "  File \"C:\\projects\\test\\venv\\lib\\site-packages\\catboost\\core.py\", line 2433, in _fit\n",
      "    self.get_feature_importance(type=EFstrType.PredictionValuesChange)\n",
      "  File \"C:\\Users\\damos\\.pyenv\\pyenv-win\\versions\\3.9.6\\lib\\contextlib.py\", line 124, in __exit__\n",
      "    next(self.gen)\n",
      "  File \"C:\\projects\\test\\venv\\lib\\site-packages\\catboost\\core.py\", line 186, in log_fixup\n",
      "    _custom_loggers_stack.pop()\n",
      "  File \"C:\\projects\\test\\venv\\lib\\site-packages\\catboost\\core.py\", line 165, in pop\n",
      "    raise RuntimeError('Attempt to pop from an empty stack')\n",
      "RuntimeError: Attempt to pop from an empty stack\n",
      "[W 2024-04-01 00:24:28,020] Trial 12 failed with value None.\n",
      "[W 2024-04-01 00:24:29,345] Trial 14 failed with parameters: {'l2_leaf_reg': 36, 'colsample_bylevel': 0.18508317455946377, 'learning_rate': 0.007477933310960869, 'boosting_type': 'Ordered', 'bootstrap_type': 'Bayesian', 'auto_class_weights': 'None', 'depth': 8, 'bagging_temperature': 15.617286206174022} because of the following error: RuntimeError('Attempt to pop from an empty stack').\n",
      "Traceback (most recent call last):\n",
      "  File \"C:\\projects\\test\\venv\\lib\\site-packages\\optuna\\study\\_optimize.py\", line 196, in _run_trial\n",
      "    value_or_values = func(trial)\n",
      "  File \"C:\\Users\\damos\\AppData\\Local\\Temp\\ipykernel_15120\\3758288776.py\", line 61, in objective\n",
      "    model, preds = train_catboost(X_train_fold, y_train_fold, X_val_fold, y_val_fold, params)\n",
      "  File \"C:\\Users\\damos\\AppData\\Local\\Temp\\ipykernel_15120\\3758288776.py\", line 39, in train_catboost\n",
      "    model.fit(\n",
      "  File \"C:\\projects\\test\\venv\\lib\\site-packages\\catboost\\core.py\", line 5201, in fit\n",
      "    self._fit(X, y, cat_features, text_features, embedding_features, None, sample_weight, None, None, None, None, baseline, use_best_model,\n",
      "  File \"C:\\projects\\test\\venv\\lib\\site-packages\\catboost\\core.py\", line 2433, in _fit\n",
      "    self.get_feature_importance(type=EFstrType.PredictionValuesChange)\n",
      "  File \"C:\\Users\\damos\\.pyenv\\pyenv-win\\versions\\3.9.6\\lib\\contextlib.py\", line 124, in __exit__\n",
      "    next(self.gen)\n",
      "  File \"C:\\projects\\test\\venv\\lib\\site-packages\\catboost\\core.py\", line 186, in log_fixup\n",
      "    _custom_loggers_stack.pop()\n",
      "  File \"C:\\projects\\test\\venv\\lib\\site-packages\\catboost\\core.py\", line 165, in pop\n",
      "    raise RuntimeError('Attempt to pop from an empty stack')\n",
      "RuntimeError: Attempt to pop from an empty stack\n",
      "[W 2024-04-01 00:24:29,348] Trial 14 failed with value None.\n",
      "[W 2024-04-01 00:24:35,039] Trial 15 failed with parameters: {'l2_leaf_reg': 49, 'colsample_bylevel': 0.671439571234022, 'learning_rate': 0.004063019086893634, 'boosting_type': 'Ordered', 'bootstrap_type': 'MVS', 'auto_class_weights': 'Balanced', 'depth': 8} because of the following error: RuntimeError('Attempt to pop from an empty stack').\n",
      "Traceback (most recent call last):\n",
      "  File \"C:\\projects\\test\\venv\\lib\\site-packages\\optuna\\study\\_optimize.py\", line 196, in _run_trial\n",
      "    value_or_values = func(trial)\n",
      "  File \"C:\\Users\\damos\\AppData\\Local\\Temp\\ipykernel_15120\\3758288776.py\", line 61, in objective\n",
      "    model, preds = train_catboost(X_train_fold, y_train_fold, X_val_fold, y_val_fold, params)\n",
      "  File \"C:\\Users\\damos\\AppData\\Local\\Temp\\ipykernel_15120\\3758288776.py\", line 39, in train_catboost\n",
      "    model.fit(\n",
      "  File \"C:\\projects\\test\\venv\\lib\\site-packages\\catboost\\core.py\", line 5201, in fit\n",
      "    self._fit(X, y, cat_features, text_features, embedding_features, None, sample_weight, None, None, None, None, baseline, use_best_model,\n",
      "  File \"C:\\projects\\test\\venv\\lib\\site-packages\\catboost\\core.py\", line 2433, in _fit\n",
      "    self.get_feature_importance(type=EFstrType.PredictionValuesChange)\n",
      "  File \"C:\\Users\\damos\\.pyenv\\pyenv-win\\versions\\3.9.6\\lib\\contextlib.py\", line 124, in __exit__\n",
      "    next(self.gen)\n",
      "  File \"C:\\projects\\test\\venv\\lib\\site-packages\\catboost\\core.py\", line 186, in log_fixup\n",
      "    _custom_loggers_stack.pop()\n",
      "  File \"C:\\projects\\test\\venv\\lib\\site-packages\\catboost\\core.py\", line 165, in pop\n",
      "    raise RuntimeError('Attempt to pop from an empty stack')\n",
      "RuntimeError: Attempt to pop from an empty stack\n",
      "[W 2024-04-01 00:24:35,039] Trial 15 failed with value None.\n",
      "[W 2024-04-01 00:24:41,894] Trial 5 failed with parameters: {'l2_leaf_reg': 45, 'colsample_bylevel': 0.6248757467689239, 'learning_rate': 0.0025739498104263812, 'boosting_type': 'Ordered', 'bootstrap_type': 'MVS', 'auto_class_weights': 'Balanced', 'depth': 8} because of the following error: RuntimeError('Attempt to pop from an empty stack').\n",
      "Traceback (most recent call last):\n",
      "  File \"C:\\projects\\test\\venv\\lib\\site-packages\\optuna\\study\\_optimize.py\", line 196, in _run_trial\n",
      "    value_or_values = func(trial)\n",
      "  File \"C:\\Users\\damos\\AppData\\Local\\Temp\\ipykernel_15120\\3758288776.py\", line 61, in objective\n",
      "    model, preds = train_catboost(X_train_fold, y_train_fold, X_val_fold, y_val_fold, params)\n",
      "  File \"C:\\Users\\damos\\AppData\\Local\\Temp\\ipykernel_15120\\3758288776.py\", line 39, in train_catboost\n",
      "    model.fit(\n",
      "  File \"C:\\projects\\test\\venv\\lib\\site-packages\\catboost\\core.py\", line 5201, in fit\n",
      "    self._fit(X, y, cat_features, text_features, embedding_features, None, sample_weight, None, None, None, None, baseline, use_best_model,\n",
      "  File \"C:\\projects\\test\\venv\\lib\\site-packages\\catboost\\core.py\", line 2433, in _fit\n",
      "    self.get_feature_importance(type=EFstrType.PredictionValuesChange)\n",
      "  File \"C:\\Users\\damos\\.pyenv\\pyenv-win\\versions\\3.9.6\\lib\\contextlib.py\", line 124, in __exit__\n",
      "    next(self.gen)\n",
      "  File \"C:\\projects\\test\\venv\\lib\\site-packages\\catboost\\core.py\", line 186, in log_fixup\n",
      "    _custom_loggers_stack.pop()\n",
      "  File \"C:\\projects\\test\\venv\\lib\\site-packages\\catboost\\core.py\", line 165, in pop\n",
      "    raise RuntimeError('Attempt to pop from an empty stack')\n",
      "RuntimeError: Attempt to pop from an empty stack\n",
      "[W 2024-04-01 00:24:41,917] Trial 5 failed with value None.\n",
      "[W 2024-04-01 00:24:44,151] Trial 17 failed with parameters: {'l2_leaf_reg': 7, 'colsample_bylevel': 0.3417799570978482, 'learning_rate': 0.009967469445905333, 'boosting_type': 'Ordered', 'bootstrap_type': 'MVS', 'auto_class_weights': 'Balanced', 'depth': 9} because of the following error: RuntimeError('Attempt to pop from an empty stack').\n",
      "Traceback (most recent call last):\n",
      "  File \"C:\\projects\\test\\venv\\lib\\site-packages\\optuna\\study\\_optimize.py\", line 196, in _run_trial\n",
      "    value_or_values = func(trial)\n",
      "  File \"C:\\Users\\damos\\AppData\\Local\\Temp\\ipykernel_15120\\3758288776.py\", line 61, in objective\n",
      "    model, preds = train_catboost(X_train_fold, y_train_fold, X_val_fold, y_val_fold, params)\n",
      "  File \"C:\\Users\\damos\\AppData\\Local\\Temp\\ipykernel_15120\\3758288776.py\", line 39, in train_catboost\n",
      "    model.fit(\n",
      "  File \"C:\\projects\\test\\venv\\lib\\site-packages\\catboost\\core.py\", line 5201, in fit\n",
      "    self._fit(X, y, cat_features, text_features, embedding_features, None, sample_weight, None, None, None, None, baseline, use_best_model,\n",
      "  File \"C:\\projects\\test\\venv\\lib\\site-packages\\catboost\\core.py\", line 2433, in _fit\n",
      "    self.get_feature_importance(type=EFstrType.PredictionValuesChange)\n",
      "  File \"C:\\Users\\damos\\.pyenv\\pyenv-win\\versions\\3.9.6\\lib\\contextlib.py\", line 124, in __exit__\n",
      "    next(self.gen)\n",
      "  File \"C:\\projects\\test\\venv\\lib\\site-packages\\catboost\\core.py\", line 186, in log_fixup\n",
      "    _custom_loggers_stack.pop()\n",
      "  File \"C:\\projects\\test\\venv\\lib\\site-packages\\catboost\\core.py\", line 165, in pop\n",
      "    raise RuntimeError('Attempt to pop from an empty stack')\n",
      "RuntimeError: Attempt to pop from an empty stack\n",
      "[W 2024-04-01 00:24:44,154] Trial 17 failed with value None.\n",
      "[W 2024-04-01 00:24:45,632] Trial 18 failed with parameters: {'l2_leaf_reg': 3, 'colsample_bylevel': 0.3521145529787615, 'learning_rate': 0.0050486262777332735, 'boosting_type': 'Ordered', 'bootstrap_type': 'Bernoulli', 'auto_class_weights': 'Balanced', 'depth': 9, 'subsample': 0.9274327028700731} because of the following error: RuntimeError('Attempt to pop from an empty stack').\n",
      "Traceback (most recent call last):\n",
      "  File \"C:\\projects\\test\\venv\\lib\\site-packages\\optuna\\study\\_optimize.py\", line 196, in _run_trial\n",
      "    value_or_values = func(trial)\n",
      "  File \"C:\\Users\\damos\\AppData\\Local\\Temp\\ipykernel_15120\\3758288776.py\", line 61, in objective\n",
      "    model, preds = train_catboost(X_train_fold, y_train_fold, X_val_fold, y_val_fold, params)\n",
      "  File \"C:\\Users\\damos\\AppData\\Local\\Temp\\ipykernel_15120\\3758288776.py\", line 39, in train_catboost\n",
      "    model.fit(\n",
      "  File \"C:\\projects\\test\\venv\\lib\\site-packages\\catboost\\core.py\", line 5201, in fit\n",
      "    self._fit(X, y, cat_features, text_features, embedding_features, None, sample_weight, None, None, None, None, baseline, use_best_model,\n",
      "  File \"C:\\projects\\test\\venv\\lib\\site-packages\\catboost\\core.py\", line 2433, in _fit\n",
      "    self.get_feature_importance(type=EFstrType.PredictionValuesChange)\n",
      "  File \"C:\\Users\\damos\\.pyenv\\pyenv-win\\versions\\3.9.6\\lib\\contextlib.py\", line 124, in __exit__\n",
      "    next(self.gen)\n",
      "  File \"C:\\projects\\test\\venv\\lib\\site-packages\\catboost\\core.py\", line 186, in log_fixup\n",
      "    _custom_loggers_stack.pop()\n",
      "  File \"C:\\projects\\test\\venv\\lib\\site-packages\\catboost\\core.py\", line 165, in pop\n",
      "    raise RuntimeError('Attempt to pop from an empty stack')\n",
      "RuntimeError: Attempt to pop from an empty stack\n",
      "[W 2024-04-01 00:24:45,636] Trial 18 failed with value None.\n"
     ]
    },
    {
     "ename": "RuntimeError",
     "evalue": "Attempt to pop from an empty stack",
     "output_type": "error",
     "traceback": [
      "\u001B[1;31m---------------------------------------------------------------------------\u001B[0m",
      "\u001B[1;31mRuntimeError\u001B[0m                              Traceback (most recent call last)",
      "Cell \u001B[1;32mIn[22], line 73\u001B[0m\n\u001B[0;32m     71\u001B[0m \u001B[38;5;66;03m# Запуск оптимизации\u001B[39;00m\n\u001B[0;32m     72\u001B[0m study \u001B[38;5;241m=\u001B[39m optuna\u001B[38;5;241m.\u001B[39mcreate_study(direction\u001B[38;5;241m=\u001B[39m\u001B[38;5;124m'\u001B[39m\u001B[38;5;124mmaximize\u001B[39m\u001B[38;5;124m'\u001B[39m)\n\u001B[1;32m---> 73\u001B[0m \u001B[43mstudy\u001B[49m\u001B[38;5;241;43m.\u001B[39;49m\u001B[43moptimize\u001B[49m\u001B[43m(\u001B[49m\u001B[43mobjective\u001B[49m\u001B[43m,\u001B[49m\u001B[43m \u001B[49m\u001B[43mn_trials\u001B[49m\u001B[38;5;241;43m=\u001B[39;49m\u001B[38;5;241;43m1000\u001B[39;49m\u001B[43m,\u001B[49m\u001B[43m \u001B[49m\u001B[43mn_jobs\u001B[49m\u001B[38;5;241;43m=\u001B[39;49m\u001B[38;5;241;43m-\u001B[39;49m\u001B[38;5;241;43m1\u001B[39;49m\u001B[43m,\u001B[49m\u001B[43m \u001B[49m\u001B[43mshow_progress_bar\u001B[49m\u001B[38;5;241;43m=\u001B[39;49m\u001B[38;5;28;43;01mTrue\u001B[39;49;00m\u001B[43m)\u001B[49m\n",
      "File \u001B[1;32mC:\\projects\\test\\venv\\lib\\site-packages\\optuna\\study\\study.py:451\u001B[0m, in \u001B[0;36mStudy.optimize\u001B[1;34m(self, func, n_trials, timeout, n_jobs, catch, callbacks, gc_after_trial, show_progress_bar)\u001B[0m\n\u001B[0;32m    348\u001B[0m \u001B[38;5;28;01mdef\u001B[39;00m \u001B[38;5;21moptimize\u001B[39m(\n\u001B[0;32m    349\u001B[0m     \u001B[38;5;28mself\u001B[39m,\n\u001B[0;32m    350\u001B[0m     func: ObjectiveFuncType,\n\u001B[1;32m   (...)\u001B[0m\n\u001B[0;32m    357\u001B[0m     show_progress_bar: \u001B[38;5;28mbool\u001B[39m \u001B[38;5;241m=\u001B[39m \u001B[38;5;28;01mFalse\u001B[39;00m,\n\u001B[0;32m    358\u001B[0m ) \u001B[38;5;241m-\u001B[39m\u001B[38;5;241m>\u001B[39m \u001B[38;5;28;01mNone\u001B[39;00m:\n\u001B[0;32m    359\u001B[0m \u001B[38;5;250m    \u001B[39m\u001B[38;5;124;03m\"\"\"Optimize an objective function.\u001B[39;00m\n\u001B[0;32m    360\u001B[0m \n\u001B[0;32m    361\u001B[0m \u001B[38;5;124;03m    Optimization is done by choosing a suitable set of hyperparameter values from a given\u001B[39;00m\n\u001B[1;32m   (...)\u001B[0m\n\u001B[0;32m    449\u001B[0m \u001B[38;5;124;03m            If nested invocation of this method occurs.\u001B[39;00m\n\u001B[0;32m    450\u001B[0m \u001B[38;5;124;03m    \"\"\"\u001B[39;00m\n\u001B[1;32m--> 451\u001B[0m     \u001B[43m_optimize\u001B[49m\u001B[43m(\u001B[49m\n\u001B[0;32m    452\u001B[0m \u001B[43m        \u001B[49m\u001B[43mstudy\u001B[49m\u001B[38;5;241;43m=\u001B[39;49m\u001B[38;5;28;43mself\u001B[39;49m\u001B[43m,\u001B[49m\n\u001B[0;32m    453\u001B[0m \u001B[43m        \u001B[49m\u001B[43mfunc\u001B[49m\u001B[38;5;241;43m=\u001B[39;49m\u001B[43mfunc\u001B[49m\u001B[43m,\u001B[49m\n\u001B[0;32m    454\u001B[0m \u001B[43m        \u001B[49m\u001B[43mn_trials\u001B[49m\u001B[38;5;241;43m=\u001B[39;49m\u001B[43mn_trials\u001B[49m\u001B[43m,\u001B[49m\n\u001B[0;32m    455\u001B[0m \u001B[43m        \u001B[49m\u001B[43mtimeout\u001B[49m\u001B[38;5;241;43m=\u001B[39;49m\u001B[43mtimeout\u001B[49m\u001B[43m,\u001B[49m\n\u001B[0;32m    456\u001B[0m \u001B[43m        \u001B[49m\u001B[43mn_jobs\u001B[49m\u001B[38;5;241;43m=\u001B[39;49m\u001B[43mn_jobs\u001B[49m\u001B[43m,\u001B[49m\n\u001B[0;32m    457\u001B[0m \u001B[43m        \u001B[49m\u001B[43mcatch\u001B[49m\u001B[38;5;241;43m=\u001B[39;49m\u001B[38;5;28;43mtuple\u001B[39;49m\u001B[43m(\u001B[49m\u001B[43mcatch\u001B[49m\u001B[43m)\u001B[49m\u001B[43m \u001B[49m\u001B[38;5;28;43;01mif\u001B[39;49;00m\u001B[43m \u001B[49m\u001B[38;5;28;43misinstance\u001B[39;49m\u001B[43m(\u001B[49m\u001B[43mcatch\u001B[49m\u001B[43m,\u001B[49m\u001B[43m \u001B[49m\u001B[43mIterable\u001B[49m\u001B[43m)\u001B[49m\u001B[43m \u001B[49m\u001B[38;5;28;43;01melse\u001B[39;49;00m\u001B[43m \u001B[49m\u001B[43m(\u001B[49m\u001B[43mcatch\u001B[49m\u001B[43m,\u001B[49m\u001B[43m)\u001B[49m\u001B[43m,\u001B[49m\n\u001B[0;32m    458\u001B[0m \u001B[43m        \u001B[49m\u001B[43mcallbacks\u001B[49m\u001B[38;5;241;43m=\u001B[39;49m\u001B[43mcallbacks\u001B[49m\u001B[43m,\u001B[49m\n\u001B[0;32m    459\u001B[0m \u001B[43m        \u001B[49m\u001B[43mgc_after_trial\u001B[49m\u001B[38;5;241;43m=\u001B[39;49m\u001B[43mgc_after_trial\u001B[49m\u001B[43m,\u001B[49m\n\u001B[0;32m    460\u001B[0m \u001B[43m        \u001B[49m\u001B[43mshow_progress_bar\u001B[49m\u001B[38;5;241;43m=\u001B[39;49m\u001B[43mshow_progress_bar\u001B[49m\u001B[43m,\u001B[49m\n\u001B[0;32m    461\u001B[0m \u001B[43m    \u001B[49m\u001B[43m)\u001B[49m\n",
      "File \u001B[1;32mC:\\projects\\test\\venv\\lib\\site-packages\\optuna\\study\\_optimize.py:99\u001B[0m, in \u001B[0;36m_optimize\u001B[1;34m(study, func, n_trials, timeout, n_jobs, catch, callbacks, gc_after_trial, show_progress_bar)\u001B[0m\n\u001B[0;32m     97\u001B[0m                     \u001B[38;5;66;03m# Raise if exception occurred in executing the completed futures.\u001B[39;00m\n\u001B[0;32m     98\u001B[0m                     \u001B[38;5;28;01mfor\u001B[39;00m f \u001B[38;5;129;01min\u001B[39;00m completed:\n\u001B[1;32m---> 99\u001B[0m                         \u001B[43mf\u001B[49m\u001B[38;5;241;43m.\u001B[39;49m\u001B[43mresult\u001B[49m\u001B[43m(\u001B[49m\u001B[43m)\u001B[49m\n\u001B[0;32m    101\u001B[0m                 futures\u001B[38;5;241m.\u001B[39madd(\n\u001B[0;32m    102\u001B[0m                     executor\u001B[38;5;241m.\u001B[39msubmit(\n\u001B[0;32m    103\u001B[0m                         _optimize_sequential,\n\u001B[1;32m   (...)\u001B[0m\n\u001B[0;32m    114\u001B[0m                     )\n\u001B[0;32m    115\u001B[0m                 )\n\u001B[0;32m    116\u001B[0m \u001B[38;5;28;01mfinally\u001B[39;00m:\n",
      "File \u001B[1;32m~\\.pyenv\\pyenv-win\\versions\\3.9.6\\lib\\concurrent\\futures\\_base.py:438\u001B[0m, in \u001B[0;36mFuture.result\u001B[1;34m(self, timeout)\u001B[0m\n\u001B[0;32m    436\u001B[0m     \u001B[38;5;28;01mraise\u001B[39;00m CancelledError()\n\u001B[0;32m    437\u001B[0m \u001B[38;5;28;01melif\u001B[39;00m \u001B[38;5;28mself\u001B[39m\u001B[38;5;241m.\u001B[39m_state \u001B[38;5;241m==\u001B[39m FINISHED:\n\u001B[1;32m--> 438\u001B[0m     \u001B[38;5;28;01mreturn\u001B[39;00m \u001B[38;5;28;43mself\u001B[39;49m\u001B[38;5;241;43m.\u001B[39;49m\u001B[43m__get_result\u001B[49m\u001B[43m(\u001B[49m\u001B[43m)\u001B[49m\n\u001B[0;32m    440\u001B[0m \u001B[38;5;28mself\u001B[39m\u001B[38;5;241m.\u001B[39m_condition\u001B[38;5;241m.\u001B[39mwait(timeout)\n\u001B[0;32m    442\u001B[0m \u001B[38;5;28;01mif\u001B[39;00m \u001B[38;5;28mself\u001B[39m\u001B[38;5;241m.\u001B[39m_state \u001B[38;5;129;01min\u001B[39;00m [CANCELLED, CANCELLED_AND_NOTIFIED]:\n",
      "File \u001B[1;32m~\\.pyenv\\pyenv-win\\versions\\3.9.6\\lib\\concurrent\\futures\\_base.py:390\u001B[0m, in \u001B[0;36mFuture.__get_result\u001B[1;34m(self)\u001B[0m\n\u001B[0;32m    388\u001B[0m \u001B[38;5;28;01mif\u001B[39;00m \u001B[38;5;28mself\u001B[39m\u001B[38;5;241m.\u001B[39m_exception:\n\u001B[0;32m    389\u001B[0m     \u001B[38;5;28;01mtry\u001B[39;00m:\n\u001B[1;32m--> 390\u001B[0m         \u001B[38;5;28;01mraise\u001B[39;00m \u001B[38;5;28mself\u001B[39m\u001B[38;5;241m.\u001B[39m_exception\n\u001B[0;32m    391\u001B[0m     \u001B[38;5;28;01mfinally\u001B[39;00m:\n\u001B[0;32m    392\u001B[0m         \u001B[38;5;66;03m# Break a reference cycle with the exception in self._exception\u001B[39;00m\n\u001B[0;32m    393\u001B[0m         \u001B[38;5;28mself\u001B[39m \u001B[38;5;241m=\u001B[39m \u001B[38;5;28;01mNone\u001B[39;00m\n",
      "File \u001B[1;32m~\\.pyenv\\pyenv-win\\versions\\3.9.6\\lib\\concurrent\\futures\\thread.py:52\u001B[0m, in \u001B[0;36m_WorkItem.run\u001B[1;34m(self)\u001B[0m\n\u001B[0;32m     49\u001B[0m     \u001B[38;5;28;01mreturn\u001B[39;00m\n\u001B[0;32m     51\u001B[0m \u001B[38;5;28;01mtry\u001B[39;00m:\n\u001B[1;32m---> 52\u001B[0m     result \u001B[38;5;241m=\u001B[39m \u001B[38;5;28mself\u001B[39m\u001B[38;5;241m.\u001B[39mfn(\u001B[38;5;241m*\u001B[39m\u001B[38;5;28mself\u001B[39m\u001B[38;5;241m.\u001B[39margs, \u001B[38;5;241m*\u001B[39m\u001B[38;5;241m*\u001B[39m\u001B[38;5;28mself\u001B[39m\u001B[38;5;241m.\u001B[39mkwargs)\n\u001B[0;32m     53\u001B[0m \u001B[38;5;28;01mexcept\u001B[39;00m \u001B[38;5;167;01mBaseException\u001B[39;00m \u001B[38;5;28;01mas\u001B[39;00m exc:\n\u001B[0;32m     54\u001B[0m     \u001B[38;5;28mself\u001B[39m\u001B[38;5;241m.\u001B[39mfuture\u001B[38;5;241m.\u001B[39mset_exception(exc)\n",
      "File \u001B[1;32mC:\\projects\\test\\venv\\lib\\site-packages\\optuna\\study\\_optimize.py:159\u001B[0m, in \u001B[0;36m_optimize_sequential\u001B[1;34m(study, func, n_trials, timeout, catch, callbacks, gc_after_trial, reseed_sampler_rng, time_start, progress_bar)\u001B[0m\n\u001B[0;32m    156\u001B[0m         \u001B[38;5;28;01mbreak\u001B[39;00m\n\u001B[0;32m    158\u001B[0m \u001B[38;5;28;01mtry\u001B[39;00m:\n\u001B[1;32m--> 159\u001B[0m     frozen_trial \u001B[38;5;241m=\u001B[39m \u001B[43m_run_trial\u001B[49m\u001B[43m(\u001B[49m\u001B[43mstudy\u001B[49m\u001B[43m,\u001B[49m\u001B[43m \u001B[49m\u001B[43mfunc\u001B[49m\u001B[43m,\u001B[49m\u001B[43m \u001B[49m\u001B[43mcatch\u001B[49m\u001B[43m)\u001B[49m\n\u001B[0;32m    160\u001B[0m \u001B[38;5;28;01mfinally\u001B[39;00m:\n\u001B[0;32m    161\u001B[0m     \u001B[38;5;66;03m# The following line mitigates memory problems that can be occurred in some\u001B[39;00m\n\u001B[0;32m    162\u001B[0m     \u001B[38;5;66;03m# environments (e.g., services that use computing containers such as GitHub Actions).\u001B[39;00m\n\u001B[0;32m    163\u001B[0m     \u001B[38;5;66;03m# Please refer to the following PR for further details:\u001B[39;00m\n\u001B[0;32m    164\u001B[0m     \u001B[38;5;66;03m# https://github.com/optuna/optuna/pull/325.\u001B[39;00m\n\u001B[0;32m    165\u001B[0m     \u001B[38;5;28;01mif\u001B[39;00m gc_after_trial:\n",
      "File \u001B[1;32mC:\\projects\\test\\venv\\lib\\site-packages\\optuna\\study\\_optimize.py:247\u001B[0m, in \u001B[0;36m_run_trial\u001B[1;34m(study, func, catch)\u001B[0m\n\u001B[0;32m    240\u001B[0m         \u001B[38;5;28;01massert\u001B[39;00m \u001B[38;5;28;01mFalse\u001B[39;00m, \u001B[38;5;124m\"\u001B[39m\u001B[38;5;124mShould not reach.\u001B[39m\u001B[38;5;124m\"\u001B[39m\n\u001B[0;32m    242\u001B[0m \u001B[38;5;28;01mif\u001B[39;00m (\n\u001B[0;32m    243\u001B[0m     frozen_trial\u001B[38;5;241m.\u001B[39mstate \u001B[38;5;241m==\u001B[39m TrialState\u001B[38;5;241m.\u001B[39mFAIL\n\u001B[0;32m    244\u001B[0m     \u001B[38;5;129;01mand\u001B[39;00m func_err \u001B[38;5;129;01mis\u001B[39;00m \u001B[38;5;129;01mnot\u001B[39;00m \u001B[38;5;28;01mNone\u001B[39;00m\n\u001B[0;32m    245\u001B[0m     \u001B[38;5;129;01mand\u001B[39;00m \u001B[38;5;129;01mnot\u001B[39;00m \u001B[38;5;28misinstance\u001B[39m(func_err, catch)\n\u001B[0;32m    246\u001B[0m ):\n\u001B[1;32m--> 247\u001B[0m     \u001B[38;5;28;01mraise\u001B[39;00m func_err\n\u001B[0;32m    248\u001B[0m \u001B[38;5;28;01mreturn\u001B[39;00m frozen_trial\n",
      "File \u001B[1;32mC:\\projects\\test\\venv\\lib\\site-packages\\optuna\\study\\_optimize.py:196\u001B[0m, in \u001B[0;36m_run_trial\u001B[1;34m(study, func, catch)\u001B[0m\n\u001B[0;32m    194\u001B[0m \u001B[38;5;28;01mwith\u001B[39;00m get_heartbeat_thread(trial\u001B[38;5;241m.\u001B[39m_trial_id, study\u001B[38;5;241m.\u001B[39m_storage):\n\u001B[0;32m    195\u001B[0m     \u001B[38;5;28;01mtry\u001B[39;00m:\n\u001B[1;32m--> 196\u001B[0m         value_or_values \u001B[38;5;241m=\u001B[39m \u001B[43mfunc\u001B[49m\u001B[43m(\u001B[49m\u001B[43mtrial\u001B[49m\u001B[43m)\u001B[49m\n\u001B[0;32m    197\u001B[0m     \u001B[38;5;28;01mexcept\u001B[39;00m exceptions\u001B[38;5;241m.\u001B[39mTrialPruned \u001B[38;5;28;01mas\u001B[39;00m e:\n\u001B[0;32m    198\u001B[0m         \u001B[38;5;66;03m# TODO(mamu): Handle multi-objective cases.\u001B[39;00m\n\u001B[0;32m    199\u001B[0m         state \u001B[38;5;241m=\u001B[39m TrialState\u001B[38;5;241m.\u001B[39mPRUNED\n",
      "Cell \u001B[1;32mIn[22], line 61\u001B[0m, in \u001B[0;36mobjective\u001B[1;34m(trial)\u001B[0m\n\u001B[0;32m     58\u001B[0m X_train_fold, y_train_fold \u001B[38;5;241m=\u001B[39m X_train\u001B[38;5;241m.\u001B[39miloc[train_idx], y_train\u001B[38;5;241m.\u001B[39miloc[train_idx]\n\u001B[0;32m     59\u001B[0m X_val_fold, y_val_fold \u001B[38;5;241m=\u001B[39m X_train\u001B[38;5;241m.\u001B[39miloc[valid_idx], y_train\u001B[38;5;241m.\u001B[39miloc[valid_idx]\n\u001B[1;32m---> 61\u001B[0m model, preds \u001B[38;5;241m=\u001B[39m \u001B[43mtrain_catboost\u001B[49m\u001B[43m(\u001B[49m\u001B[43mX_train_fold\u001B[49m\u001B[43m,\u001B[49m\u001B[43m \u001B[49m\u001B[43my_train_fold\u001B[49m\u001B[43m,\u001B[49m\u001B[43m \u001B[49m\u001B[43mX_val_fold\u001B[49m\u001B[43m,\u001B[49m\u001B[43m \u001B[49m\u001B[43my_val_fold\u001B[49m\u001B[43m,\u001B[49m\u001B[43m \u001B[49m\u001B[43mparams\u001B[49m\u001B[43m)\u001B[49m\n\u001B[0;32m     62\u001B[0m score \u001B[38;5;241m=\u001B[39m accuracy_score(preds, y_val_fold)\n\u001B[0;32m     63\u001B[0m scores\u001B[38;5;241m.\u001B[39mappend(score)\n",
      "Cell \u001B[1;32mIn[22], line 39\u001B[0m, in \u001B[0;36mtrain_catboost\u001B[1;34m(X_train, y_train, X_val, y_val, params)\u001B[0m\n\u001B[0;32m     31\u001B[0m \u001B[38;5;28;01mdef\u001B[39;00m \u001B[38;5;21mtrain_catboost\u001B[39m(X_train, y_train, X_val, y_val, params):\n\u001B[0;32m     32\u001B[0m     model \u001B[38;5;241m=\u001B[39m CatBoostClassifier(\n\u001B[0;32m     33\u001B[0m         \u001B[38;5;241m*\u001B[39m\u001B[38;5;241m*\u001B[39mparams,\n\u001B[0;32m     34\u001B[0m         thread_count\u001B[38;5;241m=\u001B[39m\u001B[38;5;241m-\u001B[39m\u001B[38;5;241m1\u001B[39m,\n\u001B[0;32m     35\u001B[0m         random_seed\u001B[38;5;241m=\u001B[39m\u001B[38;5;241m88\u001B[39m,\n\u001B[0;32m     36\u001B[0m         cat_features\u001B[38;5;241m=\u001B[39mcat_features,\n\u001B[0;32m     37\u001B[0m     )\n\u001B[1;32m---> 39\u001B[0m     \u001B[43mmodel\u001B[49m\u001B[38;5;241;43m.\u001B[39;49m\u001B[43mfit\u001B[49m\u001B[43m(\u001B[49m\n\u001B[0;32m     40\u001B[0m \u001B[43m        \u001B[49m\u001B[43mX_train\u001B[49m\u001B[43m,\u001B[49m\n\u001B[0;32m     41\u001B[0m \u001B[43m        \u001B[49m\u001B[43my_train\u001B[49m\u001B[43m,\u001B[49m\n\u001B[0;32m     42\u001B[0m \u001B[43m        \u001B[49m\u001B[43meval_set\u001B[49m\u001B[38;5;241;43m=\u001B[39;49m\u001B[43m(\u001B[49m\u001B[43mX_val\u001B[49m\u001B[43m,\u001B[49m\u001B[43m \u001B[49m\u001B[43my_val\u001B[49m\u001B[43m)\u001B[49m\u001B[43m,\u001B[49m\n\u001B[0;32m     43\u001B[0m \u001B[43m        \u001B[49m\u001B[43mverbose\u001B[49m\u001B[38;5;241;43m=\u001B[39;49m\u001B[38;5;241;43m0\u001B[39;49m\u001B[43m,\u001B[49m\n\u001B[0;32m     44\u001B[0m \u001B[43m        \u001B[49m\u001B[43mplot\u001B[49m\u001B[38;5;241;43m=\u001B[39;49m\u001B[38;5;28;43;01mFalse\u001B[39;49;00m\u001B[43m,\u001B[49m\n\u001B[0;32m     45\u001B[0m \u001B[43m        \u001B[49m\u001B[43mearly_stopping_rounds\u001B[49m\u001B[38;5;241;43m=\u001B[39;49m\u001B[38;5;241;43m5\u001B[39;49m\u001B[43m,\u001B[49m\n\u001B[0;32m     46\u001B[0m \u001B[43m    \u001B[49m\u001B[43m)\u001B[49m\n\u001B[0;32m     48\u001B[0m     preds \u001B[38;5;241m=\u001B[39m model\u001B[38;5;241m.\u001B[39mpredict(X_val)\n\u001B[0;32m     49\u001B[0m     \u001B[38;5;28;01mreturn\u001B[39;00m model, preds\n",
      "File \u001B[1;32mC:\\projects\\test\\venv\\lib\\site-packages\\catboost\\core.py:5201\u001B[0m, in \u001B[0;36mCatBoostClassifier.fit\u001B[1;34m(self, X, y, cat_features, text_features, embedding_features, sample_weight, baseline, use_best_model, eval_set, verbose, logging_level, plot, plot_file, column_description, verbose_eval, metric_period, silent, early_stopping_rounds, save_snapshot, snapshot_file, snapshot_interval, init_model, callbacks, log_cout, log_cerr)\u001B[0m\n\u001B[0;32m   5198\u001B[0m \u001B[38;5;28;01mif\u001B[39;00m \u001B[38;5;124m'\u001B[39m\u001B[38;5;124mloss_function\u001B[39m\u001B[38;5;124m'\u001B[39m \u001B[38;5;129;01min\u001B[39;00m params:\n\u001B[0;32m   5199\u001B[0m     CatBoostClassifier\u001B[38;5;241m.\u001B[39m_check_is_compatible_loss(params[\u001B[38;5;124m'\u001B[39m\u001B[38;5;124mloss_function\u001B[39m\u001B[38;5;124m'\u001B[39m])\n\u001B[1;32m-> 5201\u001B[0m \u001B[38;5;28;43mself\u001B[39;49m\u001B[38;5;241;43m.\u001B[39;49m\u001B[43m_fit\u001B[49m\u001B[43m(\u001B[49m\u001B[43mX\u001B[49m\u001B[43m,\u001B[49m\u001B[43m \u001B[49m\u001B[43my\u001B[49m\u001B[43m,\u001B[49m\u001B[43m \u001B[49m\u001B[43mcat_features\u001B[49m\u001B[43m,\u001B[49m\u001B[43m \u001B[49m\u001B[43mtext_features\u001B[49m\u001B[43m,\u001B[49m\u001B[43m \u001B[49m\u001B[43membedding_features\u001B[49m\u001B[43m,\u001B[49m\u001B[43m \u001B[49m\u001B[38;5;28;43;01mNone\u001B[39;49;00m\u001B[43m,\u001B[49m\u001B[43m \u001B[49m\u001B[43msample_weight\u001B[49m\u001B[43m,\u001B[49m\u001B[43m \u001B[49m\u001B[38;5;28;43;01mNone\u001B[39;49;00m\u001B[43m,\u001B[49m\u001B[43m \u001B[49m\u001B[38;5;28;43;01mNone\u001B[39;49;00m\u001B[43m,\u001B[49m\u001B[43m \u001B[49m\u001B[38;5;28;43;01mNone\u001B[39;49;00m\u001B[43m,\u001B[49m\u001B[43m \u001B[49m\u001B[38;5;28;43;01mNone\u001B[39;49;00m\u001B[43m,\u001B[49m\u001B[43m \u001B[49m\u001B[43mbaseline\u001B[49m\u001B[43m,\u001B[49m\u001B[43m \u001B[49m\u001B[43muse_best_model\u001B[49m\u001B[43m,\u001B[49m\n\u001B[0;32m   5202\u001B[0m \u001B[43m          \u001B[49m\u001B[43meval_set\u001B[49m\u001B[43m,\u001B[49m\u001B[43m \u001B[49m\u001B[43mverbose\u001B[49m\u001B[43m,\u001B[49m\u001B[43m \u001B[49m\u001B[43mlogging_level\u001B[49m\u001B[43m,\u001B[49m\u001B[43m \u001B[49m\u001B[43mplot\u001B[49m\u001B[43m,\u001B[49m\u001B[43m \u001B[49m\u001B[43mplot_file\u001B[49m\u001B[43m,\u001B[49m\u001B[43m \u001B[49m\u001B[43mcolumn_description\u001B[49m\u001B[43m,\u001B[49m\u001B[43m \u001B[49m\u001B[43mverbose_eval\u001B[49m\u001B[43m,\u001B[49m\u001B[43m \u001B[49m\u001B[43mmetric_period\u001B[49m\u001B[43m,\u001B[49m\n\u001B[0;32m   5203\u001B[0m \u001B[43m          \u001B[49m\u001B[43msilent\u001B[49m\u001B[43m,\u001B[49m\u001B[43m \u001B[49m\u001B[43mearly_stopping_rounds\u001B[49m\u001B[43m,\u001B[49m\u001B[43m \u001B[49m\u001B[43msave_snapshot\u001B[49m\u001B[43m,\u001B[49m\u001B[43m \u001B[49m\u001B[43msnapshot_file\u001B[49m\u001B[43m,\u001B[49m\u001B[43m \u001B[49m\u001B[43msnapshot_interval\u001B[49m\u001B[43m,\u001B[49m\u001B[43m \u001B[49m\u001B[43minit_model\u001B[49m\u001B[43m,\u001B[49m\u001B[43m \u001B[49m\u001B[43mcallbacks\u001B[49m\u001B[43m,\u001B[49m\u001B[43m \u001B[49m\u001B[43mlog_cout\u001B[49m\u001B[43m,\u001B[49m\u001B[43m \u001B[49m\u001B[43mlog_cerr\u001B[49m\u001B[43m)\u001B[49m\n\u001B[0;32m   5204\u001B[0m \u001B[38;5;28;01mreturn\u001B[39;00m \u001B[38;5;28mself\u001B[39m\n",
      "File \u001B[1;32mC:\\projects\\test\\venv\\lib\\site-packages\\catboost\\core.py:2433\u001B[0m, in \u001B[0;36mCatBoost._fit\u001B[1;34m(self, X, y, cat_features, text_features, embedding_features, pairs, sample_weight, group_id, group_weight, subgroup_id, pairs_weight, baseline, use_best_model, eval_set, verbose, logging_level, plot, plot_file, column_description, verbose_eval, metric_period, silent, early_stopping_rounds, save_snapshot, snapshot_file, snapshot_interval, init_model, callbacks, log_cout, log_cerr)\u001B[0m\n\u001B[0;32m   2431\u001B[0m             \u001B[38;5;28mself\u001B[39m\u001B[38;5;241m.\u001B[39mget_feature_importance(data\u001B[38;5;241m=\u001B[39mtrain_pool, \u001B[38;5;28mtype\u001B[39m\u001B[38;5;241m=\u001B[39mEFstrType\u001B[38;5;241m.\u001B[39mPredictionValuesChange)\n\u001B[0;32m   2432\u001B[0m         \u001B[38;5;28;01melse\u001B[39;00m:\n\u001B[1;32m-> 2433\u001B[0m             \u001B[38;5;28mself\u001B[39m\u001B[38;5;241m.\u001B[39mget_feature_importance(\u001B[38;5;28mtype\u001B[39m\u001B[38;5;241m=\u001B[39mEFstrType\u001B[38;5;241m.\u001B[39mPredictionValuesChange)\n\u001B[0;32m   2435\u001B[0m \u001B[38;5;28;01mreturn\u001B[39;00m \u001B[38;5;28mself\u001B[39m\n",
      "File \u001B[1;32m~\\.pyenv\\pyenv-win\\versions\\3.9.6\\lib\\contextlib.py:124\u001B[0m, in \u001B[0;36m_GeneratorContextManager.__exit__\u001B[1;34m(self, type, value, traceback)\u001B[0m\n\u001B[0;32m    122\u001B[0m \u001B[38;5;28;01mif\u001B[39;00m \u001B[38;5;28mtype\u001B[39m \u001B[38;5;129;01mis\u001B[39;00m \u001B[38;5;28;01mNone\u001B[39;00m:\n\u001B[0;32m    123\u001B[0m     \u001B[38;5;28;01mtry\u001B[39;00m:\n\u001B[1;32m--> 124\u001B[0m         \u001B[38;5;28;43mnext\u001B[39;49m\u001B[43m(\u001B[49m\u001B[38;5;28;43mself\u001B[39;49m\u001B[38;5;241;43m.\u001B[39;49m\u001B[43mgen\u001B[49m\u001B[43m)\u001B[49m\n\u001B[0;32m    125\u001B[0m     \u001B[38;5;28;01mexcept\u001B[39;00m \u001B[38;5;167;01mStopIteration\u001B[39;00m:\n\u001B[0;32m    126\u001B[0m         \u001B[38;5;28;01mreturn\u001B[39;00m \u001B[38;5;28;01mFalse\u001B[39;00m\n",
      "File \u001B[1;32mC:\\projects\\test\\venv\\lib\\site-packages\\catboost\\core.py:186\u001B[0m, in \u001B[0;36mlog_fixup\u001B[1;34m(log_cout, log_cerr)\u001B[0m\n\u001B[0;32m    184\u001B[0m     \u001B[38;5;28;01myield\u001B[39;00m\n\u001B[0;32m    185\u001B[0m \u001B[38;5;28;01mfinally\u001B[39;00m:\n\u001B[1;32m--> 186\u001B[0m     \u001B[43m_custom_loggers_stack\u001B[49m\u001B[38;5;241;43m.\u001B[39;49m\u001B[43mpop\u001B[49m\u001B[43m(\u001B[49m\u001B[43m)\u001B[49m\n",
      "File \u001B[1;32mC:\\projects\\test\\venv\\lib\\site-packages\\catboost\\core.py:165\u001B[0m, in \u001B[0;36m_CustomLoggersStack.pop\u001B[1;34m(self)\u001B[0m\n\u001B[0;32m    163\u001B[0m \u001B[38;5;28;01mwith\u001B[39;00m \u001B[38;5;28mself\u001B[39m\u001B[38;5;241m.\u001B[39m_lock:\n\u001B[0;32m    164\u001B[0m     \u001B[38;5;28;01mif\u001B[39;00m \u001B[38;5;129;01mnot\u001B[39;00m \u001B[38;5;28mself\u001B[39m\u001B[38;5;241m.\u001B[39m_stack:\n\u001B[1;32m--> 165\u001B[0m         \u001B[38;5;28;01mraise\u001B[39;00m \u001B[38;5;167;01mRuntimeError\u001B[39;00m(\u001B[38;5;124m'\u001B[39m\u001B[38;5;124mAttempt to pop from an empty stack\u001B[39m\u001B[38;5;124m'\u001B[39m)\n\u001B[0;32m    166\u001B[0m     \u001B[38;5;28;01mif\u001B[39;00m \u001B[38;5;28mself\u001B[39m\u001B[38;5;241m.\u001B[39m_owning_thread_id \u001B[38;5;241m!=\u001B[39m threading\u001B[38;5;241m.\u001B[39mcurrent_thread()\u001B[38;5;241m.\u001B[39mident:\n\u001B[0;32m    167\u001B[0m         \u001B[38;5;66;03m# because push from other threads does nothing\u001B[39;00m\n\u001B[0;32m    168\u001B[0m         \u001B[38;5;28;01mreturn\u001B[39;00m\n",
      "\u001B[1;31mRuntimeError\u001B[0m: Attempt to pop from an empty stack"
     ]
    }
   ],
   "source": [
    "from sklearn.metrics import accuracy_score\n",
    "from sklearn.model_selection import KFold, train_test_split\n",
    "\n",
    "\n",
    "\n",
    "filtered_features = [i for i in car_train.columns if (i not in targets and i not in features2drop)]\n",
    "num_features = [i for i in filtered_features if i not in cat_features]\n",
    "\n",
    "def objective(trial, return_models=False):\n",
    "    n_splits = 3\n",
    "    kf = KFold(n_splits=n_splits, shuffle=True, random_state=42)\n",
    "    X_train = df_wo_targets\n",
    "    y_train = target_column\n",
    "\n",
    "    scores, models = [], []\n",
    "\n",
    "    for train_idx, valid_idx in kf.split(X_train):\n",
    "        train_data = X_train.iloc[train_idx, :], y_train.iloc[train_idx]\n",
    "        valid_data = X_train.iloc[valid_idx, :], y_train.iloc[valid_idx]\n",
    "\n",
    "        model, preds = fit_catboost(trial, train_data, valid_data)\n",
    "        scores.append(accuracy_score(preds, valid_data[1]))\n",
    "        models.append(model)\n",
    "\n",
    "    result = np.mean(scores)\n",
    "\n",
    "    if return_models:\n",
    "        return result, models\n",
    "    else:\n",
    "        return result\n",
    "\n",
    "def fit_catboost(trial, train, val):\n",
    "    X_train, y_train = train\n",
    "    X_val, y_val = val\n",
    "\n",
    "    params = {\n",
    "        'iterations' : 100,\n",
    "        \"l2_leaf_reg\": trial.suggest_int(\"l2_leaf_reg\", 2, 50),\n",
    "        \"colsample_bylevel\": trial.suggest_float(\"colsample_bylevel\", 0.01, 0.8),\n",
    "        \"learning_rate\": trial.suggest_float(\"learning_rate\", 0.001, 0.01),\n",
    "        \"boosting_type\": trial.suggest_categorical(\"boosting_type\", [\"Ordered\", \"Plain\"]),\n",
    "        \"bootstrap_type\": trial.suggest_categorical(\"bootstrap_type\", [\"Bayesian\", \"Bernoulli\", \"MVS\"]),\n",
    "        \"used_ram_limit\": \"10gb\",\n",
    "        \"eval_metric\": \"Accuracy\",\n",
    "        \"auto_class_weights\": trial.suggest_categorical(\"auto_class_weights\", [\"SqrtBalanced\", \"Balanced\", \"None\"]),\n",
    "        \"depth\": trial.suggest_int(\"depth\", 3, 9),\n",
    "    }\n",
    "\n",
    "    if params[\"bootstrap_type\"] == \"Bayesian\":\n",
    "        params[\"bagging_temperature\"] = trial.suggest_float(\"bagging_temperature\", 0, 20)\n",
    "\n",
    "    elif params[\"bootstrap_type\"] == \"Bernoulli\":\n",
    "        params[\"subsample\"] = trial.suggest_float(\"subsample\", 0.1, 1)\n",
    "\n",
    "    model = CatBoostClassifier(\n",
    "        **params,\n",
    "        thread_count=-1,\n",
    "        random_seed=88,\n",
    "        cat_features=cat_features,\n",
    "    )\n",
    "\n",
    "    model.fit(\n",
    "        X_train,\n",
    "        y_train,\n",
    "        eval_set=(X_val, y_val),\n",
    "        verbose=0,\n",
    "        plot=False,\n",
    "        early_stopping_rounds=5,\n",
    "    )\n",
    "\n",
    "    preds = model.predict(X_val)\n",
    "    return model, preds\n",
    "study = optuna.create_study(direction=\"maximize\")\n",
    "study.optimize(objective,\n",
    "               n_trials=1000,\n",
    "               n_jobs = -1,\n",
    "               show_progress_bar=True)"
   ]
  },
  {
   "cell_type": "code",
   "execution_count": 28,
   "outputs": [
    {
     "name": "stdout",
     "output_type": "stream",
     "text": [
      "Лучший результат: score 0.92776886035313, при параметрах {'l2_leaf_reg': 2, 'colsample_bylevel': 0.7660371370900922, 'learning_rate': 0.009475458381667006, 'boosting_type': 'Plain', 'bootstrap_type': 'MVS', 'auto_class_weights': 'Balanced', 'depth': 6}\n"
     ]
    }
   ],
   "source": [
    "print(\"Лучшие: score {}, параметры {}\".format(study.best_trial.value, study.best_trial.params))"
   ],
   "metadata": {
    "collapsed": false,
    "ExecuteTime": {
     "end_time": "2024-03-31T21:30:19.396Z",
     "start_time": "2024-03-31T21:30:19.264831200Z"
    }
   }
  },
  {
   "cell_type": "code",
   "execution_count": null,
   "outputs": [],
   "source": [
    "valid_scores, models = objective(\n",
    "    optuna.trial.FixedTrial(study.best_params),\n",
    "    return_models=True,\n",
    ")"
   ],
   "metadata": {
    "collapsed": false,
    "is_executing": true,
    "ExecuteTime": {
     "start_time": "2024-03-31T21:29:22.369953600Z"
    }
   }
  },
  {
   "cell_type": "code",
   "execution_count": 26,
   "outputs": [
    {
     "ename": "NameError",
     "evalue": "name 'valid_scores' is not defined",
     "output_type": "error",
     "traceback": [
      "\u001B[1;31m---------------------------------------------------------------------------\u001B[0m",
      "\u001B[1;31mNameError\u001B[0m                                 Traceback (most recent call last)",
      "Cell \u001B[1;32mIn[26], line 1\u001B[0m\n\u001B[1;32m----> 1\u001B[0m \u001B[38;5;28mprint\u001B[39m(\u001B[38;5;124m\"\u001B[39m\u001B[38;5;124mValid scores: \u001B[39m\u001B[38;5;132;01m{}\u001B[39;00m\u001B[38;5;124m, length: \u001B[39m\u001B[38;5;132;01m{}\u001B[39;00m\u001B[38;5;124m\"\u001B[39m\u001B[38;5;241m.\u001B[39mformat(\u001B[43mvalid_scores\u001B[49m, \u001B[38;5;28mlen\u001B[39m(models)))\n",
      "\u001B[1;31mNameError\u001B[0m: name 'valid_scores' is not defined"
     ]
    }
   ],
   "source": [
    "print(\"Valid scores: {}, length: {}\".format(valid_scores, len(models)))"
   ],
   "metadata": {
    "collapsed": false,
    "ExecuteTime": {
     "end_time": "2024-03-31T21:29:18.653490300Z",
     "start_time": "2024-03-31T21:29:18.461472200Z"
    }
   }
  },
  {
   "cell_type": "markdown",
   "source": [
    "### Общая информация по `Optuna`"
   ],
   "metadata": {
    "id": "ayIdErsgjayi"
   }
  },
  {
   "cell_type": "markdown",
   "metadata": {
    "tags": [],
    "id": "a6Y35ioqbuh0"
   },
   "source": [
    "#### Ключевые особенности <code>Optuna</code>\n",
    "\n"
   ]
  },
  {
   "cell_type": "markdown",
   "source": [
    "- Легковесность и универсальность — можно подбирать оптимальные параметры под любые функции и метрики.\n",
    "- SOTA-алгоритмы, адаптированные для поиска гиперпараметров.\n",
    "- Параллелизация и различные методы прунинга.\n",
    "- Встроенная визуализация.\n",
    "- Интеграция со множеством популярных библиотек (бустинги, sklearn, PyTorch, W&B и другие).\n",
    "\n",
    "Разберем Optuna по частям, чтобы понять, как ее использовать."
   ],
   "metadata": {
    "id": "EFwQ3_NStdFY"
   }
  },
  {
   "cell_type": "markdown",
   "source": [
    "#### <code>Study</code>: оптимизация, базирующаяся на <code>Objective</code> функции"
   ],
   "metadata": {
    "id": "GIT2J4INtxaf"
   }
  },
  {
   "cell_type": "markdown",
   "metadata": {
    "id": "wqPh6XVybuh0"
   },
   "source": [
    "\n",
    "\n",
    "В `Objective`-функцию нужно написать код подсчета метрики, которую возвращаем. `Objective` вызывается Optuna много раз для подбора лучших параметров.\n",
    "```python\n",
    "def objective(trial, ...):\n",
    "    # calculate score...\n",
    "    return score\n",
    "```\n",
    "\n",
    "<h4> <code>Trial</code> — одно выполнение <code>Objective</code>-функции</h4>\n",
    "\n",
    "В `trial`-объекте мы передаем параметры для «перебора», используя для каждого типа свой метод. Например:\n",
    "\n",
    "```python\n",
    "# метод `suggest_float` показывает, что перебираем `float` значения, от 0 и до 1.5 границы\n",
    "param = trial.suggest_float('param', 0, 1.5)\n",
    "\n",
    "# Категориальное значение\n",
    "loss_function = trial.suggest_categorical('loss', ['Logloss', 'CrossEntropy'])\n",
    "\n",
    "# Целочисленное значение\n",
    "depth = trial.suggest_int('depth', 5, 8)\n",
    "\n",
    "# Равномерное распределение\n",
    "learning_rate = trial.suggest_uniform('learning_rate', 0.0, 1.0)\n",
    "```"
   ]
  },
  {
   "cell_type": "markdown",
   "source": [
    "#### `Study` parameters"
   ],
   "metadata": {
    "id": "4huC_vW7uI4o"
   }
  },
  {
   "cell_type": "markdown",
   "metadata": {
    "id": "Cq94BjhWbuh0"
   },
   "source": [
    "Инициализируем объект `study`, который начнет перебор и сохранит в себе историю результатов.\n",
    "Если мы стараемся увеличить метрику, а не уменьшить ошибку, то используем `create_study(direction='maximize')`.\n",
    "```python\n",
    "study = optuna.create_study()\n",
    "study.optimize(objective, n_trials=10)\n",
    "```"
   ]
  },
  {
   "cell_type": "markdown",
   "metadata": {
    "id": "x9AvfTv4buh0"
   },
   "source": [
    "<div class=\"alert alert-info\">\n",
    "    \n",
    "В [`Optuna`](https://optuna.readthedocs.io/en/stable/index.html) реализовано несколько методов (`sampler`) подбора параметров (в том числе классические):\n",
    "* `GridSampler`\n",
    "* `RandomSampler`\n",
    "* `Tree-Structed Parzen Estimator` (`TPESampler` — самый популярный, дефолтный)\n",
    "* `BruteForceSampler`\n",
    "* [Другие 4 метода](https://optuna.readthedocs.io/en/stable/reference/samplers/index.html#module-optuna.samplers) (можно написать собственный семплер)"
   ]
  },
  {
   "cell_type": "markdown",
   "metadata": {
    "tags": [],
    "id": "3g4-aEHabuh0"
   },
   "source": [
    "### Советы по перебору параметров"
   ]
  },
  {
   "cell_type": "markdown",
   "source": [
    "- Иметь понимание важности параметров.\n",
    "- Число `iterations` лучше взять с запасом и зафиксировать, при этом ограничив через `early_stopping_rounds`.\n",
    "- Подсмотреть или чувствовать диапазоны и шаг значений.\n",
    "- Исключить то, что перебирать не нужно (`random_seed` , `eval_metric`, `thread_count` и прочее).\n",
    "- Используйте информацию с прошлых попыток."
   ],
   "metadata": {
    "id": "g3b8cs4Mt7pq"
   }
  },
  {
   "cell_type": "markdown",
   "metadata": {
    "id": "dXv8NCp_buh1"
   },
   "source": [
    "# Домашнее задание 4. Блендинг"
   ]
  },
  {
   "cell_type": "markdown",
   "metadata": {
    "id": "8-bhQKWGbuh1"
   },
   "source": [
    "<div class=\"alert alert-info\">\n",
    "\n",
    "**Цель блока** — улучшить качество предсказания, объединив несколько моделей вместе методом блендинга."
   ]
  },
  {
   "cell_type": "markdown",
   "metadata": {
    "id": "ZtI-eK3xbuh1"
   },
   "source": [
    "## Задание 6. Блендинг (10 баллов)"
   ]
  },
  {
   "cell_type": "markdown",
   "metadata": {
    "id": "8v9Onoo9buh1"
   },
   "source": [
    "1. Построить и обучить модели:\n",
    "    - `CatBoostClassifier`,\n",
    "    - `LightGBMClassifier (goss)`,\n",
    "    - `XGBoostClassifier (dart)`,\n",
    "    - `RandomForestClassifier`.\n",
    "2. Сделать предсказания каждой моделью, оценить качество.\n",
    "3. Реализовать блендинг двумя способами, оценить качество и сравнить с предыдущим пунктом:\n",
    "    - `Hard Voting` —  метод, при котором делаем голосование всех моделей и выбираем самый популярный класс.\n",
    "    - `Soft Voting` —  метод, при котором мы складываем вероятности предсказания всех моделей по каждому классу и потом выбираем самый класс с максимальной суммой.\n",
    "    \n",
    "<h4> Критерии оценивания </h4>\n",
    "    \n",
    "- Обучены 4 модели — 1 балл за каждую обученную модель, всего 4 балла.\n",
    "- Для модели проведен подбор гиперпараметров — 0,5 балла за каждый параметр, всего 2 балла.\n",
    "- Сделаны предсказания каждой модели и оценено качество — 1 балл.\n",
    "- Реализован `Hard Voting` — 1 балл.\n",
    "- Реализован `Soft Voting` — 1 балл.\n",
    "- Сделаны выводы — 1 балл.\n",
    "    \n",
    "</div>"
   ]
  },
  {
   "cell_type": "code",
   "execution_count": null,
   "metadata": {
    "id": "Mfi_sxnjbuh2",
    "ExecuteTime": {
     "start_time": "2024-03-31T21:24:49.665764300Z"
    }
   },
   "outputs": [],
   "source": [
    "# YOUR CODE HERE"
   ]
  },
  {
   "cell_type": "markdown",
   "source": [
    "### Общая информация о блендинге"
   ],
   "metadata": {
    "id": "O2utYsm3mShl"
   }
  },
  {
   "cell_type": "markdown",
   "metadata": {
    "id": "-JNyyolfbuh1"
   },
   "source": [
    "**Основная идея** — взять от каждого алгоритма лучшее и совместить несколько разных ML-моделей в одну.\n",
    "\n",
    "Что это дает:\n",
    "- Увеличивается обобщающая способность финальной модели и качество улучшается.\n",
    "- Модель становится более стабильной, что позволяет не слететь на приватном лидерборде.\n",
    "\n",
    "Особенно хорошо накидывает блендинг, если смешиваемые модели имеют разную природу — например, нейронные сети, kNN и решающие деревья. Они выучивают разные зависимости и хорошо дополняют друг друга.\n",
    "\n",
    "</div>"
   ]
  },
  {
   "cell_type": "markdown",
   "metadata": {
    "id": "C5w0RwnYbuh3"
   },
   "source": [
    "# <center id=\"part6\"> Отправка финального решения на лидерборд на Kaggle"
   ]
  },
  {
   "cell_type": "markdown",
   "metadata": {
    "id": "wpt2Bdimbuh3"
   },
   "source": [
    "<div class=\"alert alert-info\">\n",
    "\n",
    "**Цель блока** — сделать предсказание с помощью блендинга для тестовой части датасета, отправить результат [в соревнование на Kaggle](https://www.kaggle.com/competitions/competative-data-science-course-by-data-feeling/overview)."
   ]
  },
  {
   "cell_type": "markdown",
   "metadata": {
    "id": "gfYqF37Cbuh3"
   },
   "source": [
    "## Задание 8. Предсказание на тестовом датасете и отправка на Kaggle"
   ]
  },
  {
   "cell_type": "markdown",
   "metadata": {
    "id": "m_ExuGjabuh3"
   },
   "source": [
    "1. Сделать предобработку для тестового датасета, присоединить к нему информацию из других датасетов и добавить признаки, которые генерировали для тренировочного датасета.\n",
    "2. Сделать предсказания каждой моделью, которую хотите включить в ансамбль, но минимум их должно быть 3.\n",
    "3. Сделать блендинг с помощью `Hard Voting` или `Soft Voting` на ваш выбор.\n",
    "4. Сохранить результат предсказания в `csv` файл и отправить решение на Kaggle.\n",
    "    \n",
    "<h4> Критерии оценивания </h4>\n",
    "    \n",
    "- 0 баллов за задание, если итоговый скор на лидерборде меньше чем `0.9`.\n",
    "- 1 балл за каждый выполненный пункт.\n",
    "\n",
    "</div>"
   ]
  },
  {
   "cell_type": "code",
   "execution_count": null,
   "metadata": {
    "id": "Cnp6usAybuh4",
    "ExecuteTime": {
     "start_time": "2024-03-31T21:24:49.670913800Z"
    }
   },
   "outputs": [],
   "source": [
    "car_test = pd.read_csv('https://raw.githubusercontent.com/a-milenkin/Competitive_Data_Science/main/data/car_test.csv')\n",
    "car_test.head(3)"
   ]
  },
  {
   "cell_type": "code",
   "execution_count": null,
   "metadata": {
    "id": "ZEZhf8gabuh4",
    "ExecuteTime": {
     "start_time": "2024-03-31T21:24:49.674940400Z"
    }
   },
   "outputs": [],
   "source": [
    "# YOUR CODE HERE"
   ]
  },
  {
   "cell_type": "markdown",
   "metadata": {
    "id": "cUuphISJbuh4"
   },
   "source": [
    "### Советы по отправке кода на Kaggle\n"
   ]
  },
  {
   "cell_type": "markdown",
   "source": [
    "\n",
    "Если пишете код на `Kaggle`, то для отправки решения:\n",
    "\n",
    "1. Нажать Save Version.\n",
    "2. Проверить, что в Advanced Settings выбрано «Всегда сохранять результаты ноутбука».\n",
    "3. Выбрать тип сохранения Save & Run All (Commit).\n",
    "4. Нажать кнопку Save."
   ],
   "metadata": {
    "id": "ZAQLSpKWu4aI"
   }
  }
 ],
 "metadata": {
  "kernelspec": {
   "display_name": "Python 3 (ipykernel)",
   "language": "python",
   "name": "python3"
  },
  "language_info": {
   "codemirror_mode": {
    "name": "ipython",
    "version": 3
   },
   "file_extension": ".py",
   "mimetype": "text/x-python",
   "name": "python",
   "nbconvert_exporter": "python",
   "pygments_lexer": "ipython3",
   "version": "3.10.13"
  },
  "colab": {
   "provenance": []
  }
 },
 "nbformat": 4,
 "nbformat_minor": 0
}
